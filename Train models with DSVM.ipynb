{
  "cells": [
    {
      "metadata": {
        "trusted": true
      },
      "cell_type": "code",
      "source": "import os\nimport numpy as np\nimport pandas as pd\n\nimport azureml\nfrom azureml.core import Workspace, Run\n\nprint(\"Azure ML SDK Version: \", azureml.core.VERSION)",
      "execution_count": 1,
      "outputs": [
        {
          "output_type": "stream",
          "text": "Azure ML SDK Version:  0.1.59\n",
          "name": "stdout"
        }
      ]
    },
    {
      "metadata": {},
      "cell_type": "markdown",
      "source": "## Load workspace"
    },
    {
      "metadata": {
        "trusted": true
      },
      "cell_type": "code",
      "source": "# load workspace configuration from the config.json file in the current folder.\nws = Workspace.from_config()\nprint(ws.name, ws.location, ws.resource_group, ws.location, sep = '\\t')",
      "execution_count": 2,
      "outputs": [
        {
          "output_type": "stream",
          "text": "Found the config file in: /home/nbuser/library/aml_config/config.json\nXiangzhe-WS\twesteurope\tXiangzhe-ML\twesteurope\n",
          "name": "stdout"
        }
      ]
    },
    {
      "metadata": {},
      "cell_type": "markdown",
      "source": "## Create / connect to an experiment"
    },
    {
      "metadata": {
        "trusted": true
      },
      "cell_type": "code",
      "source": "# create an experiment\nexperiment_name = 'nyc-taxi-dsvm'\n\nfrom azureml.core import Experiment\nexp = Experiment(workspace = ws, name = experiment_name)",
      "execution_count": 3,
      "outputs": []
    },
    {
      "metadata": {},
      "cell_type": "markdown",
      "source": "## Upload data files into datastore\n\nEvery workspace comes with a default datastore which is backed by the Azure blob storage account associated with the workspace. We can use it to transfer data from local to the cloud, and access it from the compute target (Here, our compute target is DSVM)."
    },
    {
      "metadata": {
        "trusted": true
      },
      "cell_type": "code",
      "source": "# get the default datastore\nds = ws.get_default_datastore()\nprint(ds.datastore_type, ds.account_name, ds.container_name)",
      "execution_count": 4,
      "outputs": [
        {
          "output_type": "stream",
          "text": "AzureFile xiangzhews1068013949 azureml-filestore-bc063c69-64a6-48ce-90f5-33cb3c8d43b2\n",
          "name": "stdout"
        }
      ]
    },
    {
      "metadata": {
        "trusted": true
      },
      "cell_type": "code",
      "source": "# upload data file(s)\nds.upload_files(['./data_after_prep.pkl'], target_path = 'nyc-taxi', overwrite = True, show_progress = True)\n#ds.upload(src_dir='.', target_path='nyc-taxi', overwrite=True, show_progress=True)",
      "execution_count": 5,
      "outputs": [
        {
          "output_type": "execute_result",
          "execution_count": 5,
          "data": {
            "text/plain": "$AZUREML_DATAREFERENCE_b214114d38a24588a15b66bc27d0d5df"
          },
          "metadata": {}
        }
      ]
    },
    {
      "metadata": {},
      "cell_type": "markdown",
      "source": "## Create training scripts\n\n### Create a script directory\n\nCreate a directory to deliver the necessary code from local to the remote compute target."
    },
    {
      "metadata": {
        "trusted": true
      },
      "cell_type": "code",
      "source": "script_folder = './scripts_dsvm'\nos.makedirs(script_folder, exist_ok=True)",
      "execution_count": 5,
      "outputs": []
    },
    {
      "metadata": {},
      "cell_type": "markdown",
      "source": "### Create scripts\n\nTo submit the job to the cluster, we should create a training script.\n\n_**Note**: The data path settings of DSVM and Batch AI cluster are different. Be careful !!!_"
    },
    {
      "metadata": {
        "trusted": true
      },
      "cell_type": "code",
      "source": "%%writefile $script_folder/train.py\n\nimport os\nimport argparse\nimport numpy as np\nimport pandas as pd\n\nfrom sklearn import preprocessing\nfrom sklearn.model_selection import train_test_split\nfrom sklearn.linear_model import LinearRegression\nfrom sklearn.metrics import mean_squared_error\nfrom sklearn.externals import joblib\n\nfrom azureml.core import Run\n\n# get hold of the current run\nrun = Run.get_submitted_run()\n\n# parse arguments\nparser = argparse.ArgumentParser()\nparser.add_argument('--data-folder', type=str, dest='data_folder', help='data folder mounting point')\nargs = parser.parse_args()\n\ndata_folder = args.data_folder\ndata_path = os.path.join(data_folder, 'data_after_prep.pkl')\nrun.log('Data path', data_path)\n\n# load data\npd_dataframe = pd.read_pickle(data_path)\nrun.log('Data loading', 'finished')\n\n# data processing\nle = preprocessing.LabelEncoder()\nle.fit([\"N\", \"Y\"])\npd_dataframe[\"store_and_fwd_flag\"] = le.transform(pd_dataframe[\"store_and_fwd_flag\"])\n\nle.fit([\"Monday\", \"Tuesday\", \"Wednesday\", \"Thursday\", \"Friday\", \"Saturday\", \"Sunday\"])\npd_dataframe[\"pickup_weekday\"] = le.transform(pd_dataframe[\"pickup_weekday\"])\npd_dataframe[\"dropoff_weekday\"] = le.transform(pd_dataframe[\"dropoff_weekday\"])\nrun.log('Data processing', 'finished')\n\n# load dataset into numpy arrays\ny = np.array(pd_dataframe[\"trip_duration\"]).astype(float)\ny = np.log(y)\nX = np.array(pd_dataframe.drop([\"trip_duration\"],axis = 1))\n\n# normalize data\nscaler = preprocessing.StandardScaler().fit(X)\nX = scaler.transform(X)\nrun.log('Normalization', 'finished')\n\n# split data into train and validation datasets\nX_train, X_val, y_train, y_val = train_test_split(X, y, test_size = 0.25, random_state = 20)\n\n# train LR model\nlm = LinearRegression()\nlm.fit(X_train, y_train)\nrun.log('Model training', 'finished')\n\ny_pred = lm.predict(X_val)\nrun.log('Prediction', 'finished')\n\n# evaluation\nmse = mean_squared_error(y_val, y_pred)\nrun.log('Evaluation', 'finished')\nrun.log('Mean Squared Error', np.float(mse))\n\nos.makedirs('outputs', exist_ok=True)\n# note!!! file saved in the outputs folder is automatically uploaded into experiment record\njoblib.dump(value=lm, filename='outputs/nyc_taxi_model.pkl')",
      "execution_count": 6,
      "outputs": [
        {
          "output_type": "stream",
          "text": "Writing ./scripts_dsvm/train.py\n",
          "name": "stdout"
        }
      ]
    },
    {
      "metadata": {},
      "cell_type": "markdown",
      "source": "## Create / connect to Linux DSVM as a compute target"
    },
    {
      "metadata": {
        "trusted": true
      },
      "cell_type": "code",
      "source": "from azureml.core.compute import DsvmCompute\nfrom azureml.core.compute_target import ComputeTargetException\n\ncompute_target_name = 'mydsvm'\n\ntry:\n    dsvm_compute = DsvmCompute(workspace=ws, name=compute_target_name)\n    print('found existing:', dsvm_compute.name)\nexcept ComputeTargetException:\n    print('creating new.')\n    dsvm_config = DsvmCompute.provisioning_configuration(vm_size=\"Standard_D2_v2\")\n    dsvm_compute = DsvmCompute.create(ws, name=compute_target_name, provisioning_configuration=dsvm_config)\n    dsvm_compute.wait_for_completion(show_output=True)",
      "execution_count": 7,
      "outputs": [
        {
          "output_type": "stream",
          "text": "found existing: mydsvm\n",
          "name": "stdout"
        }
      ]
    },
    {
      "metadata": {},
      "cell_type": "markdown",
      "source": "## Configure & Run\n\nFirstly, create a DataReferenceConfiguration object to inform the system what data folder to download to the copmute target."
    },
    {
      "metadata": {
        "trusted": true
      },
      "cell_type": "code",
      "source": "from azureml.core.runconfig import DataReferenceConfiguration\ndr = DataReferenceConfiguration(datastore_name=ds.name, \n                   path_on_datastore='nyc-taxi', \n                   mode='download', # download files from datastore to compute target\n                   overwrite=True)",
      "execution_count": 8,
      "outputs": []
    },
    {
      "metadata": {},
      "cell_type": "markdown",
      "source": "Secondly, ask the system to build a conda environment based on the dependency specification, and submit the script to run there. "
    },
    {
      "metadata": {
        "trusted": true
      },
      "cell_type": "code",
      "source": "from azureml.core.runconfig import RunConfiguration\nfrom azureml.core.conda_dependencies import CondaDependencies\n\n# create a new RunConfig object\nconda_run_config = RunConfiguration(framework=\"python\")\n\n# Set compute target to the Linux DSVM\nconda_run_config.target = dsvm_compute.name\n\n# set the data reference of the run configuration\nconda_run_config.data_references = {ds.name: dr}\n\n# specify CondaDependencies obj\nconda_run_config.environment.python.conda_dependencies = CondaDependencies.create(conda_packages=['numpy','pandas','scikit-learn'])",
      "execution_count": 9,
      "outputs": []
    },
    {
      "metadata": {},
      "cell_type": "markdown",
      "source": "Thirdly, run the script. Once the environment is built, and if we don't change our dependencies, it will be reused in subsequent runs."
    },
    {
      "metadata": {
        "trusted": true
      },
      "cell_type": "code",
      "source": "from azureml.core import Run\nfrom azureml.core import ScriptRunConfig\n\nsrc = ScriptRunConfig(source_directory=script_folder, \n                      script='train.py', \n                      run_config=conda_run_config,\n                      arguments=['--data-folder', str(ds.as_mount())] \n                     )\n\nrun = exp.submit(config=src)",
      "execution_count": 10,
      "outputs": []
    },
    {
      "metadata": {},
      "cell_type": "markdown",
      "source": "Show running details."
    },
    {
      "metadata": {
        "trusted": true
      },
      "cell_type": "code",
      "source": "from azureml.train.widgets import RunDetails\nRunDetails(run).show()",
      "execution_count": 11,
      "outputs": [
        {
          "output_type": "display_data",
          "data": {
            "application/vnd.jupyter.widget-view+json": {
              "model_id": "9b27ffe32d6c40d5bc887966340cd5d0",
              "version_minor": 0,
              "version_major": 2
            },
            "text/plain": "_UserRun()"
          },
          "metadata": {}
        }
      ]
    },
    {
      "metadata": {},
      "cell_type": "markdown",
      "source": "## Display run results"
    },
    {
      "metadata": {
        "trusted": true
      },
      "cell_type": "code",
      "source": "print(run.get_metrics())",
      "execution_count": 12,
      "outputs": [
        {
          "output_type": "stream",
          "text": "{'Data path': 'workspacefilestore/nyc-taxi/data_after_prep.pkl', 'Data loading': 'finished', 'Data processing': 'finished', 'Normalization': 'finished', 'Model training': 'finished', 'Prediction': 'finished', 'Evaluation': 'finished', 'Mean Squared Error': 0.3878969301600042}\n",
          "name": "stdout"
        }
      ]
    },
    {
      "metadata": {},
      "cell_type": "markdown",
      "source": "## Register model\n\n`outputs` is a special directory in that all content in this directory is automatically uploaded to your workspace. Hence, the model file will also available in the workspace.\n\nWe can see files associated with that run with the following line."
    },
    {
      "metadata": {
        "trusted": true
      },
      "cell_type": "code",
      "source": "print(run.get_file_names())",
      "execution_count": 13,
      "outputs": [
        {
          "output_type": "stream",
          "text": "['azureml-logs/60_control_log.txt', 'azureml-logs/80_driver_log.txt', 'outputs/nyc_taxi_model.pkl', 'driver_log', 'azureml-logs/azureml.log']\n",
          "name": "stdout"
        }
      ]
    },
    {
      "metadata": {},
      "cell_type": "markdown",
      "source": "Register the model in the workspace so that we can later query, examine, and deploy this model."
    },
    {
      "metadata": {
        "trusted": true
      },
      "cell_type": "code",
      "source": "# register model \nmodel = run.register_model(model_name='nyc_taxi_model', model_path='outputs/nyc_taxi_model.pkl')\nprint(model.name, model.id, model.version, sep = '\\t')",
      "execution_count": 14,
      "outputs": [
        {
          "output_type": "stream",
          "text": "nyc_taxi_model\tnyc_taxi_model:2\t2\n",
          "name": "stdout"
        }
      ]
    },
    {
      "metadata": {},
      "cell_type": "markdown",
      "source": "## Clean up the compute target"
    },
    {
      "metadata": {
        "trusted": true
      },
      "cell_type": "code",
      "source": "dsvm_compute.delete()",
      "execution_count": null,
      "outputs": []
    }
  ],
  "metadata": {
    "kernelspec": {
      "name": "python36",
      "display_name": "Python 3.6",
      "language": "python"
    },
    "language_info": {
      "mimetype": "text/x-python",
      "nbconvert_exporter": "python",
      "name": "python",
      "pygments_lexer": "ipython3",
      "version": "3.6.6",
      "file_extension": ".py",
      "codemirror_mode": {
        "version": 3,
        "name": "ipython"
      }
    }
  },
  "nbformat": 4,
  "nbformat_minor": 2
}