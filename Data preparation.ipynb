{
  "cells": [
    {
      "metadata": {},
      "cell_type": "markdown",
      "source": "Competiton Link: https://www.kaggle.com/c/nyc-taxi-trip-duration"
    },
    {
      "metadata": {
        "trusted": true
      },
      "cell_type": "code",
      "source": "from IPython.display import display\nfrom os import path\nfrom tempfile import mkdtemp\n\nimport pandas as pd\nimport numpy as np\nimport azureml.dataprep as dprep",
      "execution_count": 1,
      "outputs": []
    },
    {
      "metadata": {},
      "cell_type": "markdown",
      "source": "The dataset contains 1458644 trip records.\n\n### Data structure\n- id - a unique identifier for each trip\n- vendor_id - a code indicating the provider associated with the trip record\n- pickup_datetime - date and time when the meter was engaged\n- dropoff_datetime - date and time when the meter was disengaged\n- passenger_count - the number of passengers in the vehicle (driver entered value)\n- pickup_longitude - the longitude where the meter was engaged\n- pickup_latitude - the latitude where the meter was engaged\n- dropoff_longitude - the longitude where the meter was disengaged\n- dropoff_latitude - the latitude where the meter was disengaged\n- store_and_fwd_flag - This flag indicates whether the trip record was held in vehicle memory before sending to the vendor because the vehicle did not have a connection to the server - Y=store and forward; N=not a store and forward trip\n- trip_duration - duration of the trip in seconds"
    },
    {
      "metadata": {
        "trusted": false
      },
      "cell_type": "code",
      "source": "dataset_path = \"data/train.csv\"\n\nprint(\"Retrieving data from the following source:\")\nprint(dataset_path)\n\ndataflow = dprep.read_csv(path = dataset_path)\n\ndataflow.head(5)",
      "execution_count": 2,
      "outputs": [
        {
          "name": "stdout",
          "output_type": "stream",
          "text": "Retrieving data from the following source:\ndata/train.csv\n"
        },
        {
          "data": {
            "text/html": "<div>\n<style scoped>\n    .dataframe tbody tr th:only-of-type {\n        vertical-align: middle;\n    }\n\n    .dataframe tbody tr th {\n        vertical-align: top;\n    }\n\n    .dataframe thead th {\n        text-align: right;\n    }\n</style>\n<table border=\"1\" class=\"dataframe\">\n  <thead>\n    <tr style=\"text-align: right;\">\n      <th></th>\n      <th>id</th>\n      <th>vendor_id</th>\n      <th>pickup_datetime</th>\n      <th>dropoff_datetime</th>\n      <th>passenger_count</th>\n      <th>pickup_longitude</th>\n      <th>pickup_latitude</th>\n      <th>dropoff_longitude</th>\n      <th>dropoff_latitude</th>\n      <th>store_and_fwd_flag</th>\n      <th>trip_duration</th>\n    </tr>\n  </thead>\n  <tbody>\n    <tr>\n      <th>0</th>\n      <td>id2875421</td>\n      <td>2</td>\n      <td>2016-03-14 17:24:55</td>\n      <td>2016-03-14 17:32:30</td>\n      <td>1</td>\n      <td>-73.982154846191406</td>\n      <td>40.767936706542969</td>\n      <td>-73.964630126953125</td>\n      <td>40.765602111816406</td>\n      <td>N</td>\n      <td>455</td>\n    </tr>\n    <tr>\n      <th>1</th>\n      <td>id2377394</td>\n      <td>1</td>\n      <td>2016-06-12 00:43:35</td>\n      <td>2016-06-12 00:54:38</td>\n      <td>1</td>\n      <td>-73.980415344238281</td>\n      <td>40.738563537597656</td>\n      <td>-73.999481201171875</td>\n      <td>40.731151580810547</td>\n      <td>N</td>\n      <td>663</td>\n    </tr>\n    <tr>\n      <th>2</th>\n      <td>id3858529</td>\n      <td>2</td>\n      <td>2016-01-19 11:35:24</td>\n      <td>2016-01-19 12:10:48</td>\n      <td>1</td>\n      <td>-73.979026794433594</td>\n      <td>40.763938903808594</td>\n      <td>-74.005332946777344</td>\n      <td>40.710086822509766</td>\n      <td>N</td>\n      <td>2124</td>\n    </tr>\n    <tr>\n      <th>3</th>\n      <td>id3504673</td>\n      <td>2</td>\n      <td>2016-04-06 19:32:31</td>\n      <td>2016-04-06 19:39:40</td>\n      <td>1</td>\n      <td>-74.010040283203125</td>\n      <td>40.719970703125</td>\n      <td>-74.01226806640625</td>\n      <td>40.706718444824219</td>\n      <td>N</td>\n      <td>429</td>\n    </tr>\n    <tr>\n      <th>4</th>\n      <td>id2181028</td>\n      <td>2</td>\n      <td>2016-03-26 13:30:55</td>\n      <td>2016-03-26 13:38:10</td>\n      <td>1</td>\n      <td>-73.973052978515625</td>\n      <td>40.793209075927734</td>\n      <td>-73.972923278808594</td>\n      <td>40.782520294189453</td>\n      <td>N</td>\n      <td>435</td>\n    </tr>\n  </tbody>\n</table>\n</div>",
            "text/plain": "          id vendor_id      pickup_datetime     dropoff_datetime  \\\n0  id2875421         2  2016-03-14 17:24:55  2016-03-14 17:32:30   \n1  id2377394         1  2016-06-12 00:43:35  2016-06-12 00:54:38   \n2  id3858529         2  2016-01-19 11:35:24  2016-01-19 12:10:48   \n3  id3504673         2  2016-04-06 19:32:31  2016-04-06 19:39:40   \n4  id2181028         2  2016-03-26 13:30:55  2016-03-26 13:38:10   \n\n  passenger_count     pickup_longitude     pickup_latitude  \\\n0               1  -73.982154846191406  40.767936706542969   \n1               1  -73.980415344238281  40.738563537597656   \n2               1  -73.979026794433594  40.763938903808594   \n3               1  -74.010040283203125     40.719970703125   \n4               1  -73.973052978515625  40.793209075927734   \n\n     dropoff_longitude    dropoff_latitude store_and_fwd_flag trip_duration  \n0  -73.964630126953125  40.765602111816406                  N           455  \n1  -73.999481201171875  40.731151580810547                  N           663  \n2  -74.005332946777344  40.710086822509766                  N          2124  \n3   -74.01226806640625  40.706718444824219                  N           429  \n4  -73.972923278808594  40.782520294189453                  N           435  "
          },
          "execution_count": 2,
          "metadata": {},
          "output_type": "execute_result"
        }
      ]
    },
    {
      "metadata": {
        "trusted": false
      },
      "cell_type": "code",
      "source": "dataflow.get_profile()",
      "execution_count": 3,
      "outputs": [
        {
          "data": {
            "text/html": "<table border=\"1\" class=\"dataframe\">\n  <thead>\n    <tr style=\"text-align: right;\">\n      <th></th>\n      <th>Type</th>\n      <th>Min</th>\n      <th>Max</th>\n      <th>Count</th>\n      <th>Missing Count</th>\n      <th>Error Count</th>\n      <th>Lower Quartile</th>\n      <th>Upper Quartile</th>\n      <th>Standard Deviation</th>\n      <th>Mean</th>\n    </tr>\n  </thead>\n  <tbody>\n    <tr>\n      <th>id</th>\n      <td>FieldType.STRING</td>\n      <td>id0000001</td>\n      <td>id4000000</td>\n      <td>1458644.0</td>\n      <td>0.0</td>\n      <td>0.0</td>\n      <td></td>\n      <td></td>\n      <td></td>\n      <td></td>\n    </tr>\n    <tr>\n      <th>vendor_id</th>\n      <td>FieldType.STRING</td>\n      <td>1</td>\n      <td>2</td>\n      <td>1458644.0</td>\n      <td>0.0</td>\n      <td>0.0</td>\n      <td></td>\n      <td></td>\n      <td></td>\n      <td></td>\n    </tr>\n    <tr>\n      <th>pickup_datetime</th>\n      <td>FieldType.STRING</td>\n      <td>2016-01-01 00:00:17</td>\n      <td>2016-06-30 23:59:39</td>\n      <td>1458644.0</td>\n      <td>0.0</td>\n      <td>0.0</td>\n      <td></td>\n      <td></td>\n      <td></td>\n      <td></td>\n    </tr>\n    <tr>\n      <th>dropoff_datetime</th>\n      <td>FieldType.STRING</td>\n      <td>2016-01-01 00:03:31</td>\n      <td>2016-07-01 23:02:03</td>\n      <td>1458644.0</td>\n      <td>0.0</td>\n      <td>0.0</td>\n      <td></td>\n      <td></td>\n      <td></td>\n      <td></td>\n    </tr>\n    <tr>\n      <th>passenger_count</th>\n      <td>FieldType.STRING</td>\n      <td>0</td>\n      <td>9</td>\n      <td>1458644.0</td>\n      <td>0.0</td>\n      <td>0.0</td>\n      <td></td>\n      <td></td>\n      <td></td>\n      <td></td>\n    </tr>\n    <tr>\n      <th>pickup_longitude</th>\n      <td>FieldType.STRING</td>\n      <td>-121.93323516845703</td>\n      <td>-79.569732666015625</td>\n      <td>1458644.0</td>\n      <td>0.0</td>\n      <td>0.0</td>\n      <td></td>\n      <td></td>\n      <td></td>\n      <td></td>\n    </tr>\n    <tr>\n      <th>pickup_latitude</th>\n      <td>FieldType.STRING</td>\n      <td>34.359695434570312</td>\n      <td>51.881084442138672</td>\n      <td>1458644.0</td>\n      <td>0.0</td>\n      <td>0.0</td>\n      <td></td>\n      <td></td>\n      <td></td>\n      <td></td>\n    </tr>\n    <tr>\n      <th>dropoff_longitude</th>\n      <td>FieldType.STRING</td>\n      <td>-121.93320465087891</td>\n      <td>-80.355430603027344</td>\n      <td>1458644.0</td>\n      <td>0.0</td>\n      <td>0.0</td>\n      <td></td>\n      <td></td>\n      <td></td>\n      <td></td>\n    </tr>\n    <tr>\n      <th>dropoff_latitude</th>\n      <td>FieldType.STRING</td>\n      <td>32.181140899658203</td>\n      <td>43.921028137207031</td>\n      <td>1458644.0</td>\n      <td>0.0</td>\n      <td>0.0</td>\n      <td></td>\n      <td></td>\n      <td></td>\n      <td></td>\n    </tr>\n    <tr>\n      <th>store_and_fwd_flag</th>\n      <td>FieldType.STRING</td>\n      <td>N</td>\n      <td>Y</td>\n      <td>1458644.0</td>\n      <td>0.0</td>\n      <td>0.0</td>\n      <td></td>\n      <td></td>\n      <td></td>\n      <td></td>\n    </tr>\n    <tr>\n      <th>trip_duration</th>\n      <td>FieldType.STRING</td>\n      <td>1</td>\n      <td>999</td>\n      <td>1458644.0</td>\n      <td>0.0</td>\n      <td>0.0</td>\n      <td></td>\n      <td></td>\n      <td></td>\n      <td></td>\n    </tr>\n  </tbody>\n</table>",
            "text/plain": "ColumnProfile\n    name: id\n    type: FieldType.STRING\n\n    min: id0000001\n    max: id4000000\n    count: 1458644.0\n    missing_count: 0.0\n    error_count: 0.0\n\nColumnProfile\n    name: vendor_id\n    type: FieldType.STRING\n\n    min: 1\n    max: 2\n    count: 1458644.0\n    missing_count: 0.0\n    error_count: 0.0\n\nColumnProfile\n    name: pickup_datetime\n    type: FieldType.STRING\n\n    min: 2016-01-01 00:00:17\n    max: 2016-06-30 23:59:39\n    count: 1458644.0\n    missing_count: 0.0\n    error_count: 0.0\n\nColumnProfile\n    name: dropoff_datetime\n    type: FieldType.STRING\n\n    min: 2016-01-01 00:03:31\n    max: 2016-07-01 23:02:03\n    count: 1458644.0\n    missing_count: 0.0\n    error_count: 0.0\n\nColumnProfile\n    name: passenger_count\n    type: FieldType.STRING\n\n    min: 0\n    max: 9\n    count: 1458644.0\n    missing_count: 0.0\n    error_count: 0.0\n\nColumnProfile\n    name: pickup_longitude\n    type: FieldType.STRING\n\n    min: -121.93323516845703\n    max: -79.569732666015625\n    count: 1458644.0\n    missing_count: 0.0\n    error_count: 0.0\n\nColumnProfile\n    name: pickup_latitude\n    type: FieldType.STRING\n\n    min: 34.359695434570312\n    max: 51.881084442138672\n    count: 1458644.0\n    missing_count: 0.0\n    error_count: 0.0\n\nColumnProfile\n    name: dropoff_longitude\n    type: FieldType.STRING\n\n    min: -121.93320465087891\n    max: -80.355430603027344\n    count: 1458644.0\n    missing_count: 0.0\n    error_count: 0.0\n\nColumnProfile\n    name: dropoff_latitude\n    type: FieldType.STRING\n\n    min: 32.181140899658203\n    max: 43.921028137207031\n    count: 1458644.0\n    missing_count: 0.0\n    error_count: 0.0\n\nColumnProfile\n    name: store_and_fwd_flag\n    type: FieldType.STRING\n\n    min: N\n    max: Y\n    count: 1458644.0\n    missing_count: 0.0\n    error_count: 0.0\n\nColumnProfile\n    name: trip_duration\n    type: FieldType.STRING\n\n    min: 1\n    max: 999\n    count: 1458644.0\n    missing_count: 0.0\n    error_count: 0.0"
          },
          "execution_count": 3,
          "metadata": {},
          "output_type": "execute_result"
        }
      ]
    },
    {
      "metadata": {},
      "cell_type": "markdown",
      "source": "## Data Preparation"
    },
    {
      "metadata": {
        "trusted": false
      },
      "cell_type": "code",
      "source": "all_columns = dprep.ColumnSelector(term=\".*\", use_regex=True)\ndrop_if_all_null = [all_columns, dprep.ColumnRelationship(dprep.ColumnRelationship.ALL)]\nuseful_columns = [\n    \"vendor_id\", \"dropoff_datetime\", \"dropoff_latitude\", \"dropoff_longitude\",\n    \"pickup_datetime\", \"pickup_latitude\", \"pickup_longitude\", \"passenger_count\", \"store_and_fwd_flag\", \"trip_duration\"\n]",
      "execution_count": 4,
      "outputs": []
    },
    {
      "metadata": {
        "trusted": false
      },
      "cell_type": "code",
      "source": "dataflow = (dataflow\n     .replace_na(columns = all_columns)\n     .drop_nulls(*drop_if_all_null)\n     .keep_columns(columns=useful_columns))\ndataflow.head(5)",
      "execution_count": 5,
      "outputs": [
        {
          "data": {
            "text/html": "<div>\n<style scoped>\n    .dataframe tbody tr th:only-of-type {\n        vertical-align: middle;\n    }\n\n    .dataframe tbody tr th {\n        vertical-align: top;\n    }\n\n    .dataframe thead th {\n        text-align: right;\n    }\n</style>\n<table border=\"1\" class=\"dataframe\">\n  <thead>\n    <tr style=\"text-align: right;\">\n      <th></th>\n      <th>vendor_id</th>\n      <th>pickup_datetime</th>\n      <th>dropoff_datetime</th>\n      <th>passenger_count</th>\n      <th>pickup_longitude</th>\n      <th>pickup_latitude</th>\n      <th>dropoff_longitude</th>\n      <th>dropoff_latitude</th>\n      <th>store_and_fwd_flag</th>\n      <th>trip_duration</th>\n    </tr>\n  </thead>\n  <tbody>\n    <tr>\n      <th>0</th>\n      <td>2</td>\n      <td>2016-03-14 17:24:55</td>\n      <td>2016-03-14 17:32:30</td>\n      <td>1</td>\n      <td>-73.982154846191406</td>\n      <td>40.767936706542969</td>\n      <td>-73.964630126953125</td>\n      <td>40.765602111816406</td>\n      <td>N</td>\n      <td>455</td>\n    </tr>\n    <tr>\n      <th>1</th>\n      <td>1</td>\n      <td>2016-06-12 00:43:35</td>\n      <td>2016-06-12 00:54:38</td>\n      <td>1</td>\n      <td>-73.980415344238281</td>\n      <td>40.738563537597656</td>\n      <td>-73.999481201171875</td>\n      <td>40.731151580810547</td>\n      <td>N</td>\n      <td>663</td>\n    </tr>\n    <tr>\n      <th>2</th>\n      <td>2</td>\n      <td>2016-01-19 11:35:24</td>\n      <td>2016-01-19 12:10:48</td>\n      <td>1</td>\n      <td>-73.979026794433594</td>\n      <td>40.763938903808594</td>\n      <td>-74.005332946777344</td>\n      <td>40.710086822509766</td>\n      <td>N</td>\n      <td>2124</td>\n    </tr>\n    <tr>\n      <th>3</th>\n      <td>2</td>\n      <td>2016-04-06 19:32:31</td>\n      <td>2016-04-06 19:39:40</td>\n      <td>1</td>\n      <td>-74.010040283203125</td>\n      <td>40.719970703125</td>\n      <td>-74.01226806640625</td>\n      <td>40.706718444824219</td>\n      <td>N</td>\n      <td>429</td>\n    </tr>\n    <tr>\n      <th>4</th>\n      <td>2</td>\n      <td>2016-03-26 13:30:55</td>\n      <td>2016-03-26 13:38:10</td>\n      <td>1</td>\n      <td>-73.973052978515625</td>\n      <td>40.793209075927734</td>\n      <td>-73.972923278808594</td>\n      <td>40.782520294189453</td>\n      <td>N</td>\n      <td>435</td>\n    </tr>\n  </tbody>\n</table>\n</div>",
            "text/plain": "  vendor_id      pickup_datetime     dropoff_datetime passenger_count  \\\n0         2  2016-03-14 17:24:55  2016-03-14 17:32:30               1   \n1         1  2016-06-12 00:43:35  2016-06-12 00:54:38               1   \n2         2  2016-01-19 11:35:24  2016-01-19 12:10:48               1   \n3         2  2016-04-06 19:32:31  2016-04-06 19:39:40               1   \n4         2  2016-03-26 13:30:55  2016-03-26 13:38:10               1   \n\n      pickup_longitude     pickup_latitude    dropoff_longitude  \\\n0  -73.982154846191406  40.767936706542969  -73.964630126953125   \n1  -73.980415344238281  40.738563537597656  -73.999481201171875   \n2  -73.979026794433594  40.763938903808594  -74.005332946777344   \n3  -74.010040283203125     40.719970703125   -74.01226806640625   \n4  -73.973052978515625  40.793209075927734  -73.972923278808594   \n\n     dropoff_latitude store_and_fwd_flag trip_duration  \n0  40.765602111816406                  N           455  \n1  40.731151580810547                  N           663  \n2  40.710086822509766                  N          2124  \n3  40.706718444824219                  N           429  \n4  40.782520294189453                  N           435  "
          },
          "execution_count": 5,
          "metadata": {},
          "output_type": "execute_result"
        }
      ]
    },
    {
      "metadata": {},
      "cell_type": "markdown",
      "source": "- change pick-up and drop_off coordinate columns type to decimal\n\n- take a look ar the coordinate distribution"
    },
    {
      "metadata": {
        "trusted": false
      },
      "cell_type": "code",
      "source": "decimal_type = dprep.TypeConverter(data_type=dprep.FieldType.DECIMAL)\n\ndataflow = dataflow.set_column_types(type_conversions={\n    \"pickup_longitude\": decimal_type,\n    \"pickup_latitude\": decimal_type,\n    \"dropoff_longitude\": decimal_type,\n    \"dropoff_latitude\": decimal_type\n})\n\ndataflow.keep_columns(columns=[\n    \"pickup_longitude\", \"pickup_latitude\", \n    \"dropoff_longitude\", \"dropoff_latitude\"\n]).get_profile()",
      "execution_count": 6,
      "outputs": [
        {
          "data": {
            "text/html": "<table border=\"1\" class=\"dataframe\">\n  <thead>\n    <tr style=\"text-align: right;\">\n      <th></th>\n      <th>Type</th>\n      <th>Min</th>\n      <th>Max</th>\n      <th>Count</th>\n      <th>Missing Count</th>\n      <th>Error Count</th>\n      <th>Lower Quartile</th>\n      <th>Upper Quartile</th>\n      <th>Standard Deviation</th>\n      <th>Mean</th>\n    </tr>\n  </thead>\n  <tbody>\n    <tr>\n      <th>pickup_longitude</th>\n      <td>FieldType.DECIMAL</td>\n      <td>-121.933342</td>\n      <td>-61.335529</td>\n      <td>1458644.0</td>\n      <td>0.0</td>\n      <td>0.0</td>\n      <td>-73.991899</td>\n      <td>-73.967340</td>\n      <td>0.070902</td>\n      <td>-73.973486</td>\n    </tr>\n    <tr>\n      <th>pickup_latitude</th>\n      <td>FieldType.DECIMAL</td>\n      <td>34.359695</td>\n      <td>51.881084</td>\n      <td>1458644.0</td>\n      <td>0.0</td>\n      <td>0.0</td>\n      <td>40.737349</td>\n      <td>40.768339</td>\n      <td>0.032881</td>\n      <td>40.750921</td>\n    </tr>\n    <tr>\n      <th>dropoff_longitude</th>\n      <td>FieldType.DECIMAL</td>\n      <td>-121.933304</td>\n      <td>-61.335529</td>\n      <td>1458644.0</td>\n      <td>0.0</td>\n      <td>0.0</td>\n      <td>-73.991356</td>\n      <td>-73.963078</td>\n      <td>0.070643</td>\n      <td>-73.973416</td>\n    </tr>\n    <tr>\n      <th>dropoff_latitude</th>\n      <td>FieldType.DECIMAL</td>\n      <td>32.181141</td>\n      <td>43.921028</td>\n      <td>1458644.0</td>\n      <td>0.0</td>\n      <td>0.0</td>\n      <td>40.735865</td>\n      <td>40.769770</td>\n      <td>0.035891</td>\n      <td>40.751800</td>\n    </tr>\n  </tbody>\n</table>",
            "text/plain": "ColumnProfile\n    name: pickup_longitude\n    type: FieldType.DECIMAL\n\n    min: -121.93334197998047\n    max: -61.33552932739258\n    count: 1458644.0\n    missing_count: 0.0\n    error_count: 0.0\n\n    lower_quartile: -73.99189899362003\n    median: -73.98170216607599\n    upper_quartile: -73.96733994495922\n    std: 0.07090185842270318\n    mean: -73.97348630489286\n\nColumnProfile\n    name: pickup_latitude\n    type: FieldType.DECIMAL\n\n    min: 34.35969543457031\n    max: 51.88108444213867\n    count: 1458644.0\n    missing_count: 0.0\n    error_count: 0.0\n\n    lower_quartile: 40.73734898239093\n    median: 40.75406028772198\n    upper_quartile: 40.76833906064258\n    std: 0.03288118625763151\n    mean: 40.75092090839171\n\nColumnProfile\n    name: dropoff_longitude\n    type: FieldType.DECIMAL\n\n    min: -121.93330383300781\n    max: -61.33552932739258\n    count: 1458644.0\n    missing_count: 0.0\n    error_count: 0.0\n\n    lower_quartile: -73.99135582926512\n    median: -73.97974590618617\n    upper_quartile: -73.96307823284691\n    std: 0.07064326809720013\n    mean: -73.97341594694592\n\nColumnProfile\n    name: dropoff_latitude\n    type: FieldType.DECIMAL\n\n    min: 32.1811408996582\n    max: 43.92102813720703\n    count: 1458644.0\n    missing_count: 0.0\n    error_count: 0.0\n\n    lower_quartile: 40.73586530365042\n    median: 40.75447724112523\n    upper_quartile: 40.76976990856101\n    std: 0.03589055560563773\n    mean: 40.75179951490023"
          },
          "execution_count": 6,
          "metadata": {},
          "output_type": "execute_result"
        }
      ]
    },
    {
      "metadata": {},
      "cell_type": "markdown",
      "source": "- From the data profile, we can see that there are coordinates that are not in NYC.\n\n- Filter out those coordinates that are note in the city border with the help of the following link: https://mapmakerapp.com/?map=5b60a055a191245990310739f658"
    },
    {
      "metadata": {
        "trusted": false
      },
      "cell_type": "code",
      "source": "dataflow = (dataflow\n    .filter(dprep.f_and(\n        dprep.col(\"pickup_longitude\") <= -73.72,\n        dprep.col(\"pickup_longitude\") >= -74.09,\n        dprep.col(\"pickup_latitude\") <= 40.88,\n        dprep.col(\"pickup_latitude\") >= 40.53,\n        dprep.col(\"dropoff_longitude\") <= -73.72,\n        dprep.col(\"dropoff_longitude\") >= -74.09,\n        dprep.col(\"dropoff_latitude\") <= 40.88,\n        dprep.col(\"dropoff_latitude\") >= 40.53\n    )))\n\ndataflow.keep_columns(columns=[\n    \"pickup_longitude\", \"pickup_latitude\", \n    \"dropoff_longitude\", \"dropoff_latitude\"\n]).get_profile()",
      "execution_count": 7,
      "outputs": [
        {
          "data": {
            "text/html": "<table border=\"1\" class=\"dataframe\">\n  <thead>\n    <tr style=\"text-align: right;\">\n      <th></th>\n      <th>Type</th>\n      <th>Min</th>\n      <th>Max</th>\n      <th>Count</th>\n      <th>Missing Count</th>\n      <th>Error Count</th>\n      <th>Lower Quartile</th>\n      <th>Upper Quartile</th>\n      <th>Standard Deviation</th>\n      <th>Mean</th>\n    </tr>\n  </thead>\n  <tbody>\n    <tr>\n      <th>pickup_longitude</th>\n      <td>FieldType.DECIMAL</td>\n      <td>-74.089951</td>\n      <td>-73.720161</td>\n      <td>1452146.0</td>\n      <td>0.0</td>\n      <td>0.0</td>\n      <td>-73.991901</td>\n      <td>-73.967327</td>\n      <td>0.037802</td>\n      <td>-73.973539</td>\n    </tr>\n    <tr>\n      <th>pickup_latitude</th>\n      <td>FieldType.DECIMAL</td>\n      <td>40.531929</td>\n      <td>40.879696</td>\n      <td>1452146.0</td>\n      <td>0.0</td>\n      <td>0.0</td>\n      <td>40.737327</td>\n      <td>40.768331</td>\n      <td>0.027908</td>\n      <td>40.750960</td>\n    </tr>\n    <tr>\n      <th>dropoff_longitude</th>\n      <td>FieldType.DECIMAL</td>\n      <td>-74.089996</td>\n      <td>-73.720009</td>\n      <td>1452146.0</td>\n      <td>0.0</td>\n      <td>0.0</td>\n      <td>-73.991280</td>\n      <td>-73.963088</td>\n      <td>0.033440</td>\n      <td>-73.973212</td>\n    </tr>\n    <tr>\n      <th>dropoff_latitude</th>\n      <td>FieldType.DECIMAL</td>\n      <td>40.531364</td>\n      <td>40.879993</td>\n      <td>1452146.0</td>\n      <td>0.0</td>\n      <td>0.0</td>\n      <td>40.736047</td>\n      <td>40.769706</td>\n      <td>0.031468</td>\n      <td>40.751724</td>\n    </tr>\n  </tbody>\n</table>",
            "text/plain": "ColumnProfile\n    name: pickup_longitude\n    type: FieldType.DECIMAL\n\n    min: -74.08995056152344\n    max: -73.72016143798828\n    count: 1452146.0\n    missing_count: 0.0\n    error_count: 0.0\n\n    lower_quartile: -73.9919008186089\n    median: -73.98171960199318\n    upper_quartile: -73.96732701102168\n    std: 0.03780171329514768\n    mean: -73.97353916939034\n\nColumnProfile\n    name: pickup_latitude\n    type: FieldType.DECIMAL\n\n    min: 40.53192901611328\n    max: 40.879695892333984\n    count: 1452146.0\n    missing_count: 0.0\n    error_count: 0.0\n\n    lower_quartile: 40.73732738195187\n    median: 40.75400592423515\n    upper_quartile: 40.768331445997106\n    std: 0.027908487814839074\n    mean: 40.75095962969236\n\nColumnProfile\n    name: dropoff_longitude\n    type: FieldType.DECIMAL\n\n    min: -74.08999633789062\n    max: -73.72000885009766\n    count: 1452146.0\n    missing_count: 0.0\n    error_count: 0.0\n\n    lower_quartile: -73.99127981810719\n    median: -73.97977181140169\n    upper_quartile: -73.96308813472146\n    std: 0.03343961383782859\n    mean: -73.97321174380305\n\nColumnProfile\n    name: dropoff_latitude\n    type: FieldType.DECIMAL\n\n    min: 40.53136444091797\n    max: 40.8799934387207\n    count: 1452146.0\n    missing_count: 0.0\n    error_count: 0.0\n\n    lower_quartile: 40.736046546200534\n    median: 40.75449740112849\n    upper_quartile: 40.76970590170894\n    std: 0.03146785434985752\n    mean: 40.751724002809645"
          },
          "execution_count": 7,
          "metadata": {},
          "output_type": "execute_result"
        }
      ]
    },
    {
      "metadata": {},
      "cell_type": "markdown",
      "source": "- split the pick-up and drop-off datetimes into a data column and a time column\n- If the example parameter of split_column_by_example is omitted, we will automatically try to figure out where to split based on the data."
    },
    {
      "metadata": {
        "trusted": false
      },
      "cell_type": "code",
      "source": "dataflow = (dataflow\n    .split_column_by_example(source_column=\"pickup_datetime\")\n    .split_column_by_example(source_column=\"dropoff_datetime\"))\n\ndataflow.head(5)\n\n# we can also use derive_column_by_example to split the columns\n\"\"\"\ndataflow.derive_column_by_example(\n        source_columns='pickup_datetime',\n        new_column_name='date',\n        example_data=[('2016-03-14 17:24:55', '2016-03-14'), ('2016-06-12 00:43:35', '2016-06-12')]\n    )\\\n    .derive_column_by_example(\n        source_columns='pickup_datetime',\n        new_column_name='time',\n        example_data=[('2016-03-14 17:24:55', '17:24:55'), ('2016-06-12 00:43:35', '00:43:35')]\n    ).head(5)\n\"\"\"",
      "execution_count": 8,
      "outputs": [
        {
          "data": {
            "text/plain": "\"\\ndataflow.derive_column_by_example(\\n        source_columns='pickup_datetime',\\n        new_column_name='date',\\n        example_data=[('2016-03-14 17:24:55', '2016-03-14'), ('2016-06-12 00:43:35', '2016-06-12')]\\n    )    .derive_column_by_example(\\n        source_columns='pickup_datetime',\\n        new_column_name='time',\\n        example_data=[('2016-03-14 17:24:55', '17:24:55'), ('2016-06-12 00:43:35', '00:43:35')]\\n    ).head(5)\\n\""
          },
          "execution_count": 8,
          "metadata": {},
          "output_type": "execute_result"
        }
      ]
    },
    {
      "metadata": {},
      "cell_type": "markdown",
      "source": "- rename the columns into meaningful names"
    },
    {
      "metadata": {
        "trusted": false
      },
      "cell_type": "code",
      "source": "dataflow = (dataflow\n    .rename_columns(column_pairs={\n        \"pickup_datetime_1\": \"pickup_date\",\n        \"pickup_datetime_2\": \"pickup_time\",\n        \"dropoff_datetime_1\": \"dropoff_date\",\n        \"dropoff_datetime_2\": \"dropoff_time\"\n    }))\n\ndataflow.head(5)",
      "execution_count": 9,
      "outputs": [
        {
          "data": {
            "text/html": "<div>\n<style scoped>\n    .dataframe tbody tr th:only-of-type {\n        vertical-align: middle;\n    }\n\n    .dataframe tbody tr th {\n        vertical-align: top;\n    }\n\n    .dataframe thead th {\n        text-align: right;\n    }\n</style>\n<table border=\"1\" class=\"dataframe\">\n  <thead>\n    <tr style=\"text-align: right;\">\n      <th></th>\n      <th>vendor_id</th>\n      <th>pickup_datetime</th>\n      <th>pickup_date</th>\n      <th>pickup_time</th>\n      <th>dropoff_datetime</th>\n      <th>dropoff_date</th>\n      <th>dropoff_time</th>\n      <th>passenger_count</th>\n      <th>pickup_longitude</th>\n      <th>pickup_latitude</th>\n      <th>dropoff_longitude</th>\n      <th>dropoff_latitude</th>\n      <th>store_and_fwd_flag</th>\n      <th>trip_duration</th>\n    </tr>\n  </thead>\n  <tbody>\n    <tr>\n      <th>0</th>\n      <td>2</td>\n      <td>2016-03-14 17:24:55</td>\n      <td>2016-03-14</td>\n      <td>17:24:55</td>\n      <td>2016-03-14 17:32:30</td>\n      <td>2016-03-14</td>\n      <td>17:32:30</td>\n      <td>1</td>\n      <td>-73.982155</td>\n      <td>40.767937</td>\n      <td>-73.964630</td>\n      <td>40.765602</td>\n      <td>N</td>\n      <td>455</td>\n    </tr>\n    <tr>\n      <th>1</th>\n      <td>1</td>\n      <td>2016-06-12 00:43:35</td>\n      <td>2016-06-12</td>\n      <td>00:43:35</td>\n      <td>2016-06-12 00:54:38</td>\n      <td>2016-06-12</td>\n      <td>00:54:38</td>\n      <td>1</td>\n      <td>-73.980415</td>\n      <td>40.738564</td>\n      <td>-73.999481</td>\n      <td>40.731152</td>\n      <td>N</td>\n      <td>663</td>\n    </tr>\n    <tr>\n      <th>2</th>\n      <td>2</td>\n      <td>2016-01-19 11:35:24</td>\n      <td>2016-01-19</td>\n      <td>11:35:24</td>\n      <td>2016-01-19 12:10:48</td>\n      <td>2016-01-19</td>\n      <td>12:10:48</td>\n      <td>1</td>\n      <td>-73.979027</td>\n      <td>40.763939</td>\n      <td>-74.005333</td>\n      <td>40.710087</td>\n      <td>N</td>\n      <td>2124</td>\n    </tr>\n    <tr>\n      <th>3</th>\n      <td>2</td>\n      <td>2016-04-06 19:32:31</td>\n      <td>2016-04-06</td>\n      <td>19:32:31</td>\n      <td>2016-04-06 19:39:40</td>\n      <td>2016-04-06</td>\n      <td>19:39:40</td>\n      <td>1</td>\n      <td>-74.010040</td>\n      <td>40.719971</td>\n      <td>-74.012268</td>\n      <td>40.706718</td>\n      <td>N</td>\n      <td>429</td>\n    </tr>\n    <tr>\n      <th>4</th>\n      <td>2</td>\n      <td>2016-03-26 13:30:55</td>\n      <td>2016-03-26</td>\n      <td>13:30:55</td>\n      <td>2016-03-26 13:38:10</td>\n      <td>2016-03-26</td>\n      <td>13:38:10</td>\n      <td>1</td>\n      <td>-73.973053</td>\n      <td>40.793209</td>\n      <td>-73.972923</td>\n      <td>40.782520</td>\n      <td>N</td>\n      <td>435</td>\n    </tr>\n  </tbody>\n</table>\n</div>",
            "text/plain": "  vendor_id      pickup_datetime pickup_date pickup_time     dropoff_datetime  \\\n0         2  2016-03-14 17:24:55  2016-03-14    17:24:55  2016-03-14 17:32:30   \n1         1  2016-06-12 00:43:35  2016-06-12    00:43:35  2016-06-12 00:54:38   \n2         2  2016-01-19 11:35:24  2016-01-19    11:35:24  2016-01-19 12:10:48   \n3         2  2016-04-06 19:32:31  2016-04-06    19:32:31  2016-04-06 19:39:40   \n4         2  2016-03-26 13:30:55  2016-03-26    13:30:55  2016-03-26 13:38:10   \n\n  dropoff_date dropoff_time passenger_count  pickup_longitude  \\\n0   2016-03-14     17:32:30               1        -73.982155   \n1   2016-06-12     00:54:38               1        -73.980415   \n2   2016-01-19     12:10:48               1        -73.979027   \n3   2016-04-06     19:39:40               1        -74.010040   \n4   2016-03-26     13:38:10               1        -73.973053   \n\n   pickup_latitude  dropoff_longitude  dropoff_latitude store_and_fwd_flag  \\\n0        40.767937         -73.964630         40.765602                  N   \n1        40.738564         -73.999481         40.731152                  N   \n2        40.763939         -74.005333         40.710087                  N   \n3        40.719971         -74.012268         40.706718                  N   \n4        40.793209         -73.972923         40.782520                  N   \n\n  trip_duration  \n0           455  \n1           663  \n2          2124  \n3           429  \n4           435  "
          },
          "execution_count": 9,
          "metadata": {},
          "output_type": "execute_result"
        }
      ]
    },
    {
      "metadata": {},
      "cell_type": "markdown",
      "source": "## Feature Engineering\n\n### Datetime features\n\n- split pick-up and drop-off date into day of week, day of month and month.\n- split pick-up and drop-off time into hour, minute and second."
    },
    {
      "metadata": {
        "trusted": false
      },
      "cell_type": "code",
      "source": "%%time\ndataflow = dataflow\\\n    .derive_column_by_example(\n        source_columns=\"pickup_date\", \n        new_column_name=\"pickup_weekday\", \n        example_data=[(\"2009-01-04\", \"Sunday\"), (\"2013-08-22\", \"Thursday\")]\n    )\\\n    .derive_column_by_example(\n        source_columns=\"dropoff_date\",\n        new_column_name=\"dropoff_weekday\",\n        example_data=[(\"2013-08-22\", \"Thursday\"), (\"2013-11-03\", \"Sunday\")]\n    )\\\n    .split_column_by_example(source_column=\"pickup_date\")\\\n    .split_column_by_example(source_column=\"pickup_time\")\\\n    .split_column_by_example(source_column=\"dropoff_date\")\\\n    .split_column_by_example(source_column=\"dropoff_time\")\\\n    .split_column_by_example(source_column=\"pickup_time_1\")\\\n    .split_column_by_example(source_column=\"dropoff_time_1\")\n\ndataflow.head(5)",
      "execution_count": 10,
      "outputs": [
        {
          "name": "stdout",
          "output_type": "stream",
          "text": "Wall time: 16min 57s\n"
        }
      ]
    },
    {
      "metadata": {},
      "cell_type": "markdown",
      "source": "- drop useless columns\n- rename columns"
    },
    {
      "metadata": {
        "trusted": false
      },
      "cell_type": "code",
      "source": "%%time\ndataflow = dataflow\\\n    .drop_columns(columns=[\n        \"pickup_date\", \"pickup_time\", \"dropoff_date\", \"dropoff_time\", \n        \"pickup_time_1\", \"dropoff_time_1\", \"pickup_datetime\", \"dropoff_datetime\"\n    ])\\\n    .rename_columns(column_pairs={\n        \"pickup_date_1\": \"pickup_year\",\n        \"pickup_date_2\": \"pickup_month\",\n        \"pickup_date_3\": \"pickup_monthday\",\n        \"pickup_time_1_1\": \"pickup_hour\",\n        \"pickup_time_1_2\": \"pickup_minute\",\n        \"pickup_time_2\": \"pickup_second\",\n        \"dropoff_date_1\": \"dropoff_year\",\n        \"dropoff_date_2\": \"dropoff_month\",\n        \"dropoff_date_3\": \"dropoff_monthday\",\n        \"dropoff_time_1_1\": \"dropoff_hour\",\n        \"dropoff_time_1_2\": \"dropoff_minute\",\n        \"dropoff_time_2\": \"dropoff_second\"\n    })\n\ndataflow.head(5)",
      "execution_count": 11,
      "outputs": [
        {
          "name": "stdout",
          "output_type": "stream",
          "text": "Wall time: 609 ms\n"
        }
      ]
    },
    {
      "metadata": {},
      "cell_type": "markdown",
      "source": "- change dataflow to Pandas dataframe"
    },
    {
      "metadata": {
        "trusted": false
      },
      "cell_type": "code",
      "source": "%%time\npd_dataframe = dataflow.to_pandas_dataframe()",
      "execution_count": 12,
      "outputs": [
        {
          "name": "stdout",
          "output_type": "stream",
          "text": "Wall time: 4min 4s\n"
        }
      ]
    },
    {
      "metadata": {},
      "cell_type": "markdown",
      "source": "- calculate distance"
    },
    {
      "metadata": {
        "trusted": false
      },
      "cell_type": "code",
      "source": "# https://stackoverflow.com/questions/15736995/how-can-i-quickly-estimate-the-distance-between-two-latitude-longitude-points\nfrom math import radians, cos, sin, asin, sqrt\n\ndef haversine(lon1, lat1, lon2, lat2):\n    \"\"\"\n    Calculate the great circle distance between two points \n    on the earth (specified in decimal degrees)\n    \"\"\"\n    # convert decimal degrees to radians \n    lon1, lat1, lon2, lat2 = map(radians, [lon1, lat1, lon2, lat2])\n    # haversine formula \n    dlon = lon2 - lon1 \n    dlat = lat2 - lat1 \n    a = sin(dlat/2)**2 + cos(lat1) * cos(lat2) * sin(dlon/2)**2\n    c = 2 * asin(sqrt(a)) \n    # Radius of earth in kilometers is 6371\n    km = 6371* c\n    return km\n\ndef euclidian_distance(x):\n    x1, y1 = np.float64(x[\"pickup_longitude\"]), np.float64(x[\"pickup_latitude\"])\n    x2, y2 = np.float64(x[\"dropoff_longitude\"]), np.float64(x[\"dropoff_latitude\"])    \n    return haversine(x1, y1, x2, y2)",
      "execution_count": 13,
      "outputs": []
    },
    {
      "metadata": {
        "trusted": false
      },
      "cell_type": "code",
      "source": "%%time\npd_dataframe[\"distance\"] = pd_dataframe[[\"pickup_longitude\", \"pickup_latitude\", \"dropoff_longitude\", \"dropoff_latitude\"]]\\\n                            .apply(euclidian_distance, axis=1)",
      "execution_count": 14,
      "outputs": [
        {
          "name": "stdout",
          "output_type": "stream",
          "text": "Wall time: 2min\n"
        }
      ]
    },
    {
      "metadata": {
        "trusted": false
      },
      "cell_type": "code",
      "source": "pd_dataframe.head(5)",
      "execution_count": 15,
      "outputs": [
        {
          "data": {
            "text/html": "<div>\n<style scoped>\n    .dataframe tbody tr th:only-of-type {\n        vertical-align: middle;\n    }\n\n    .dataframe tbody tr th {\n        vertical-align: top;\n    }\n\n    .dataframe thead th {\n        text-align: right;\n    }\n</style>\n<table border=\"1\" class=\"dataframe\">\n  <thead>\n    <tr style=\"text-align: right;\">\n      <th></th>\n      <th>vendor_id</th>\n      <th>pickup_year</th>\n      <th>pickup_month</th>\n      <th>pickup_monthday</th>\n      <th>pickup_weekday</th>\n      <th>pickup_hour</th>\n      <th>pickup_minute</th>\n      <th>pickup_second</th>\n      <th>dropoff_year</th>\n      <th>dropoff_month</th>\n      <th>...</th>\n      <th>dropoff_minute</th>\n      <th>dropoff_second</th>\n      <th>passenger_count</th>\n      <th>pickup_longitude</th>\n      <th>pickup_latitude</th>\n      <th>dropoff_longitude</th>\n      <th>dropoff_latitude</th>\n      <th>store_and_fwd_flag</th>\n      <th>trip_duration</th>\n      <th>distance</th>\n    </tr>\n  </thead>\n  <tbody>\n    <tr>\n      <th>0</th>\n      <td>2</td>\n      <td>2016</td>\n      <td>03</td>\n      <td>14</td>\n      <td>Monday</td>\n      <td>17</td>\n      <td>24</td>\n      <td>55</td>\n      <td>2016</td>\n      <td>03</td>\n      <td>...</td>\n      <td>32</td>\n      <td>30</td>\n      <td>1</td>\n      <td>-73.982155</td>\n      <td>40.767937</td>\n      <td>-73.964630</td>\n      <td>40.765602</td>\n      <td>N</td>\n      <td>455</td>\n      <td>1.498521</td>\n    </tr>\n    <tr>\n      <th>1</th>\n      <td>1</td>\n      <td>2016</td>\n      <td>06</td>\n      <td>12</td>\n      <td>Sunday</td>\n      <td>00</td>\n      <td>43</td>\n      <td>35</td>\n      <td>2016</td>\n      <td>06</td>\n      <td>...</td>\n      <td>54</td>\n      <td>38</td>\n      <td>1</td>\n      <td>-73.980415</td>\n      <td>40.738564</td>\n      <td>-73.999481</td>\n      <td>40.731152</td>\n      <td>N</td>\n      <td>663</td>\n      <td>1.805507</td>\n    </tr>\n    <tr>\n      <th>2</th>\n      <td>2</td>\n      <td>2016</td>\n      <td>01</td>\n      <td>19</td>\n      <td>Tuesday</td>\n      <td>11</td>\n      <td>35</td>\n      <td>24</td>\n      <td>2016</td>\n      <td>01</td>\n      <td>...</td>\n      <td>10</td>\n      <td>48</td>\n      <td>1</td>\n      <td>-73.979027</td>\n      <td>40.763939</td>\n      <td>-74.005333</td>\n      <td>40.710087</td>\n      <td>N</td>\n      <td>2124</td>\n      <td>6.385098</td>\n    </tr>\n    <tr>\n      <th>3</th>\n      <td>2</td>\n      <td>2016</td>\n      <td>04</td>\n      <td>06</td>\n      <td>Wednesday</td>\n      <td>19</td>\n      <td>32</td>\n      <td>31</td>\n      <td>2016</td>\n      <td>04</td>\n      <td>...</td>\n      <td>39</td>\n      <td>40</td>\n      <td>1</td>\n      <td>-74.010040</td>\n      <td>40.719971</td>\n      <td>-74.012268</td>\n      <td>40.706718</td>\n      <td>N</td>\n      <td>429</td>\n      <td>1.485498</td>\n    </tr>\n    <tr>\n      <th>4</th>\n      <td>2</td>\n      <td>2016</td>\n      <td>03</td>\n      <td>26</td>\n      <td>Saturday</td>\n      <td>13</td>\n      <td>30</td>\n      <td>55</td>\n      <td>2016</td>\n      <td>03</td>\n      <td>...</td>\n      <td>38</td>\n      <td>10</td>\n      <td>1</td>\n      <td>-73.973053</td>\n      <td>40.793209</td>\n      <td>-73.972923</td>\n      <td>40.782520</td>\n      <td>N</td>\n      <td>435</td>\n      <td>1.188588</td>\n    </tr>\n  </tbody>\n</table>\n<p>5 rows × 23 columns</p>\n</div>",
            "text/plain": "  vendor_id pickup_year pickup_month pickup_monthday pickup_weekday  \\\n0         2        2016           03              14         Monday   \n1         1        2016           06              12         Sunday   \n2         2        2016           01              19        Tuesday   \n3         2        2016           04              06      Wednesday   \n4         2        2016           03              26       Saturday   \n\n  pickup_hour pickup_minute pickup_second dropoff_year dropoff_month  \\\n0          17            24            55         2016            03   \n1          00            43            35         2016            06   \n2          11            35            24         2016            01   \n3          19            32            31         2016            04   \n4          13            30            55         2016            03   \n\n     ...    dropoff_minute dropoff_second passenger_count pickup_longitude  \\\n0    ...                32             30               1       -73.982155   \n1    ...                54             38               1       -73.980415   \n2    ...                10             48               1       -73.979027   \n3    ...                39             40               1       -74.010040   \n4    ...                38             10               1       -73.973053   \n\n  pickup_latitude dropoff_longitude  dropoff_latitude  store_and_fwd_flag  \\\n0       40.767937        -73.964630         40.765602                   N   \n1       40.738564        -73.999481         40.731152                   N   \n2       40.763939        -74.005333         40.710087                   N   \n3       40.719971        -74.012268         40.706718                   N   \n4       40.793209        -73.972923         40.782520                   N   \n\n   trip_duration  distance  \n0            455  1.498521  \n1            663  1.805507  \n2           2124  6.385098  \n3            429  1.485498  \n4            435  1.188588  \n\n[5 rows x 23 columns]"
          },
          "execution_count": 15,
          "metadata": {},
          "output_type": "execute_result"
        }
      ]
    },
    {
      "metadata": {
        "trusted": false
      },
      "cell_type": "code",
      "source": "%%time\npd_dataframe.to_pickle(\"data/data_after_prep.pkl\")",
      "execution_count": 16,
      "outputs": [
        {
          "name": "stdout",
          "output_type": "stream",
          "text": "Wall time: 22.4 s\n"
        }
      ]
    },
    {
      "metadata": {},
      "cell_type": "markdown",
      "source": "## Train models"
    },
    {
      "metadata": {
        "trusted": false
      },
      "cell_type": "code",
      "source": "from sklearn.linear_model import LinearRegression\nfrom sklearn.metrics import make_scorer\nfrom sklearn import preprocessing\nfrom sklearn.model_selection import train_test_split\nfrom sklearn.metrics import mean_squared_error\nfrom sklearn.ensemble import RandomForestRegressor\n\nimport warnings\nwarnings.filterwarnings('ignore')",
      "execution_count": 17,
      "outputs": []
    },
    {
      "metadata": {
        "trusted": false
      },
      "cell_type": "code",
      "source": "%%time\nle = preprocessing.LabelEncoder()\nle.fit([\"N\", \"Y\"])\npd_dataframe[\"store_and_fwd_flag\"] = le.transform(pd_dataframe[\"store_and_fwd_flag\"])\n\nle.fit([\"Monday\", \"Tuesday\", \"Wednesday\", \"Thursday\", \"Friday\", \"Saturday\", \"Sunday\"])\npd_dataframe[\"pickup_weekday\"] = le.transform(pd_dataframe[\"pickup_weekday\"])\npd_dataframe[\"dropoff_weekday\"] = le.transform(pd_dataframe[\"dropoff_weekday\"])",
      "execution_count": 18,
      "outputs": [
        {
          "name": "stdout",
          "output_type": "stream",
          "text": "Wall time: 12.5 s\n"
        }
      ]
    },
    {
      "metadata": {
        "trusted": false
      },
      "cell_type": "code",
      "source": "%%time\ny = np.array(pd_dataframe[\"trip_duration\"]).astype(float)\ny = np.log(y)\nX = np.array(pd_dataframe.drop([\"trip_duration\"],axis = 1))\n\n# normalize input\nscaler = preprocessing.StandardScaler().fit(X)\nX = scaler.transform(X)\n\n# split data into train and validation datasets\nX_train, X_val, y_train, y_val = train_test_split(X, y, test_size = 0.25, random_state = 20)",
      "execution_count": 19,
      "outputs": [
        {
          "name": "stdout",
          "output_type": "stream",
          "text": "Wall time: 24.9 s\n"
        }
      ]
    },
    {
      "metadata": {
        "trusted": false
      },
      "cell_type": "code",
      "source": "%%time\n# train LR model\nlm = LinearRegression()\nlm.fit(X_train, y_train)\n\n# prediction\ny_pred = lm.predict(X_val)",
      "execution_count": 20,
      "outputs": [
        {
          "name": "stdout",
          "output_type": "stream",
          "text": "Wall time: 2.47 s\n"
        }
      ]
    },
    {
      "metadata": {
        "trusted": false
      },
      "cell_type": "code",
      "source": "# evaluation\nmse = mean_squared_error(y_val, y_pred)\nprint(\"Mean Squared Error for Linear Regression: {}\".format(mse))",
      "execution_count": 21,
      "outputs": [
        {
          "name": "stdout",
          "output_type": "stream",
          "text": "Mean Squared Error for Linear Regression: 0.38789693016014265\n"
        }
      ]
    },
    {
      "metadata": {},
      "cell_type": "markdown",
      "source": "## Save the transformation steps into a DataPrep package"
    },
    {
      "metadata": {
        "trusted": false
      },
      "cell_type": "code",
      "source": "dataflow = dataflow.set_name(name = \"nyc_taxi\")\npackage = dprep.Package(arg = dataflow)\npackage = package.save(file_path = \"new_york_taxi.dprep\")",
      "execution_count": 24,
      "outputs": []
    },
    {
      "metadata": {},
      "cell_type": "markdown",
      "source": "## Load DataPrep package"
    },
    {
      "metadata": {
        "trusted": false
      },
      "cell_type": "code",
      "source": "# load the package we just downloaded.\npackage = dprep.Package.open(\"new_york_taxi.dprep\")\ndf = package.dataflows[0]\n\n# replace the datasources with the full dataset\n#full_dsource = dprep.BlobDataSource(\"data/train.csv\")\n#df = df.replace_datasource(full_dsource)",
      "execution_count": 28,
      "outputs": []
    },
    {
      "metadata": {
        "trusted": false
      },
      "cell_type": "code",
      "source": "",
      "execution_count": null,
      "outputs": []
    }
  ],
  "metadata": {
    "kernelspec": {
      "name": "python3",
      "display_name": "Python 3",
      "language": "python"
    },
    "language_info": {
      "mimetype": "text/x-python",
      "nbconvert_exporter": "python",
      "name": "python",
      "pygments_lexer": "ipython3",
      "version": "3.5.4",
      "file_extension": ".py",
      "codemirror_mode": {
        "version": 3,
        "name": "ipython"
      }
    }
  },
  "nbformat": 4,
  "nbformat_minor": 2
}