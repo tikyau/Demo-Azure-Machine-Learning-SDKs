{
  "cells": [
    {
      "metadata": {},
      "cell_type": "markdown",
      "source": "First of all, we should change the Azure Storage version to **0.30.0** so as to use the module `BlockBlobService` to create the web service and deploy the model.\n\n**_Note_**: Restart the kernel after updating the package."
    },
    {
      "metadata": {
        "trusted": true
      },
      "cell_type": "code",
      "source": "# should restart the kernel each time update the package\n# update azure storage (change version) in order to use BlockBlobService\n\n!pip install azure-storage==0.30.0",
      "execution_count": 1,
      "outputs": [
        {
          "output_type": "stream",
          "text": "Collecting azure-storage==0.30.0\n\u001b[?25l  Downloading https://files.pythonhosted.org/packages/76/28/e74b38107b3c087e4de18dc20bfb15f6c3d9b766ae827bf42fc79170ffe2/azure-storage-0.30.0.zip (153kB)\n\u001b[K    100% |████████████████████████████████| 163kB 8.6MB/s eta 0:00:01\n\u001b[?25hRequirement already satisfied: azure-nspkg in /home/nbuser/anaconda3_501/lib/python3.6/site-packages (from azure-storage==0.30.0) (2.0.0)\nRequirement already satisfied: azure-common in /home/nbuser/anaconda3_501/lib/python3.6/site-packages (from azure-storage==0.30.0) (1.1.15)\nRequirement already satisfied: python-dateutil in /home/nbuser/anaconda3_501/lib/python3.6/site-packages (from azure-storage==0.30.0) (2.7.3)\nRequirement already satisfied: requests in /home/nbuser/anaconda3_501/lib/python3.6/site-packages (from azure-storage==0.30.0) (2.19.1)\nRequirement already satisfied: six>=1.5 in /home/nbuser/anaconda3_501/lib/python3.6/site-packages (from python-dateutil->azure-storage==0.30.0) (1.11.0)\nRequirement already satisfied: urllib3<1.24,>=1.21.1 in /home/nbuser/anaconda3_501/lib/python3.6/site-packages (from requests->azure-storage==0.30.0) (1.23)\nRequirement already satisfied: chardet<3.1.0,>=3.0.2 in /home/nbuser/anaconda3_501/lib/python3.6/site-packages (from requests->azure-storage==0.30.0) (3.0.4)\nRequirement already satisfied: idna<2.8,>=2.5 in /home/nbuser/anaconda3_501/lib/python3.6/site-packages (from requests->azure-storage==0.30.0) (2.6)\nRequirement already satisfied: certifi>=2017.4.17 in /home/nbuser/anaconda3_501/lib/python3.6/site-packages (from requests->azure-storage==0.30.0) (2017.7.27.1)\nBuilding wheels for collected packages: azure-storage\n  Running setup.py bdist_wheel for azure-storage ... \u001b[?25ldone\n\u001b[?25h  Stored in directory: /home/nbuser/.cache/pip/wheels/8c/00/22/879600d3b3e5d10fa31312d498f9ae8ac6cc6d2c59aac5acbb\nSuccessfully built azure-storage\nInstalling collected packages: azure-storage\nSuccessfully installed azure-storage-0.30.0\n",
          "name": "stdout"
        }
      ]
    },
    {
      "metadata": {
        "trusted": true
      },
      "cell_type": "code",
      "source": "import os\nimport numpy as np\nimport pandas as pd\n\nimport azureml\nfrom azureml.core import Workspace, Run\nfrom azureml.core.model import Model\n\n# check core SDK version number\nprint(\"Azure ML SDK Version: \", azureml.core.VERSION)",
      "execution_count": 1,
      "outputs": [
        {
          "output_type": "stream",
          "text": "Azure ML SDK Version:  0.1.59\n",
          "name": "stdout"
        }
      ]
    },
    {
      "metadata": {},
      "cell_type": "markdown",
      "source": "## Load workspace"
    },
    {
      "metadata": {
        "trusted": true
      },
      "cell_type": "code",
      "source": "# load workspace configuration from the config.json file in the current folder.\nws = Workspace.from_config()\nprint(ws.name, ws.location, ws.resource_group, ws.location, sep = '\\t')",
      "execution_count": 2,
      "outputs": [
        {
          "output_type": "stream",
          "text": "Found the config file in: /home/nbuser/library/aml_config/config.json\nPerforming interactive authentication. Please follow the instructions on the terminal.\n",
          "name": "stdout"
        },
        {
          "output_type": "stream",
          "text": "To sign in, use a web browser to open the page https://microsoft.com/devicelogin and enter the code F5QHYXE84 to authenticate.\n",
          "name": "stderr"
        },
        {
          "output_type": "stream",
          "text": "Interactive authentication successfully completed.\nXiangzhe-WS\twesteurope\tXiangzhe-ML\twesteurope\n",
          "name": "stdout"
        }
      ]
    },
    {
      "metadata": {
        "trusted": true
      },
      "cell_type": "markdown",
      "source": "## Retrieve the model\n\nYou registered a model in your workspace in the previous tutorial.\n\nDon't have to execute this sell every time."
    },
    {
      "metadata": {
        "trusted": true
      },
      "cell_type": "code",
      "source": "model = Model(ws, 'nyc_taxi_model')\n\n# If the model has already been downloaded, we don't have to do this step.\nmodel.download(target_dir = '.')\n \n# verify the downloaded model file\nos.stat('./nyc_taxi_model.pkl')",
      "execution_count": 3,
      "outputs": [
        {
          "output_type": "execute_result",
          "execution_count": 3,
          "data": {
            "text/plain": "os.stat_result(st_mode=33188, st_ino=7, st_dev=49, st_nlink=1, st_uid=1000, st_gid=1000, st_size=940, st_atime=0, st_mtime=1538653134, st_ctime=1538653134)"
          },
          "metadata": {}
        }
      ]
    },
    {
      "metadata": {},
      "cell_type": "markdown",
      "source": "## Deploy as web service\n\nOnce you've tested the model and are satisfied with the results, deploy the model as a web service hosted in ACI."
    },
    {
      "metadata": {},
      "cell_type": "markdown",
      "source": "### Create scoring script\n\nCreate the scoring script, called `score.py`, used by the web service call to show how to use the model.\n\nYou must include two required functions into the scoring script:\n\n- The `init()` function, which typically loads the model into a global object. This function is run only once when the Docker container is started.\n\n- The `run(input_data)` function uses the model to predict a value based on the input data. Inputs and outputs to the run typically use JSON for serialization and de-serialization, but other formats are supported."
    },
    {
      "metadata": {
        "trusted": true
      },
      "cell_type": "code",
      "source": "%%writefile score.py\n\nimport os\nimport json\nimport pickle\nimport numpy as np\n\nfrom sklearn.externals import joblib\nfrom sklearn.linear_model import LinearRegression\n\nfrom azureml.core.model import Model\n\ndef init():\n    global model\n    # retreive the path to the model file using the model name\n    model_path = Model.get_model_path('nyc_taxi_model')\n    model = joblib.load(model_path)\n\ndef run(raw_data):\n    data = np.array(json.loads(raw_data)['data'])\n    # make prediction\n    y_hat = model.predict(data)\n    return json.dumps(y_hat.tolist())",
      "execution_count": 4,
      "outputs": [
        {
          "output_type": "stream",
          "text": "Overwriting score.py\n",
          "name": "stdout"
        }
      ]
    },
    {
      "metadata": {},
      "cell_type": "markdown",
      "source": "### Create environment file\n\nNext, create an environment file, called myenv.yml, that specifies all of the script's package dependencies. This file is used to ensure that all of those dependencies are installed in the Docker image."
    },
    {
      "metadata": {
        "trusted": true
      },
      "cell_type": "code",
      "source": "from azureml.core.conda_dependencies import CondaDependencies \n\nmyenv = CondaDependencies()\nmyenv.add_conda_package(\"scikit-learn\")\nmyenv.add_conda_package(\"numpy\")\nmyenv.add_conda_package(\"pandas\")\nmyenv.add_pip_package(\"pynacl==1.2.1\")\n\nwith open(\"myenv.yml\",\"w\") as f:\n    f.write(myenv.serialize_to_string())",
      "execution_count": 5,
      "outputs": []
    },
    {
      "metadata": {},
      "cell_type": "markdown",
      "source": "Review the content of the `myenv.yml` file."
    },
    {
      "metadata": {
        "trusted": true
      },
      "cell_type": "code",
      "source": "with open(\"myenv.yml\",\"r\") as f:\n    print(f.read())",
      "execution_count": 6,
      "outputs": [
        {
          "output_type": "stream",
          "text": "# Conda environment specification. The dependencies defined in this file will\n# be automatically provisioned for runs with userManagedDependencies=False.\n\n# Details about the Conda environment file format:\n# https://conda.io/docs/user-guide/tasks/manage-environments.html#create-env-file-manually\n\nname: project_environment\ndependencies:\n  # The python interpreter version.\n  # Currently Azure ML only supports 3.5.2 and later.\n- python=3.6.2\n\n- pip:\n    # Required packages for AzureML execution, history, and data preparation.\n  - azureml-defaults\n  - pynacl==1.2.1\n- scikit-learn\n- numpy\n- pandas\n\n",
          "name": "stdout"
        }
      ]
    },
    {
      "metadata": {},
      "cell_type": "markdown",
      "source": "### Create configuration file\n\nCreate a deployment configuration file and specify the number of CPUs and gigabyte of RAM needed for your ACI container. While it depends on your model, the default of 1 core and 1 gigabyte of RAM is usually sufficient for many models. If you feel you need more later, you would have to recreate the image and redeploy the service."
    },
    {
      "metadata": {
        "trusted": true
      },
      "cell_type": "code",
      "source": "from azureml.core.webservice import AciWebservice\n\naciconfig = AciWebservice.deploy_configuration(cpu_cores=1, \n                                               memory_gb=1, \n                                               tags={\"data\": \"nyc-taxi-trip\",  \"method\" : \"sklearn\"}, \n                                               description='NYC taxi trip duration prediction')",
      "execution_count": 8,
      "outputs": []
    },
    {
      "metadata": {},
      "cell_type": "markdown",
      "source": "### Deploy in ACI\n\nEstimated time to complete: about **7-8 minutes**\n\nConfigure the image and deploy. The following code goes through these steps:\n\n- Build an image using:\n    - The scoring file (score.py)\n    - The environment file (myenv.yml)\n    - The model file\n- Register that image under the workspace.\n- Send the image to the ACI container.\n- Start up a container in ACI using the image.\n- Get the web service HTTP endpoint."
    },
    {
      "metadata": {
        "trusted": true
      },
      "cell_type": "code",
      "source": "%%time\nfrom azureml.core.webservice import Webservice\nfrom azureml.core.image import ContainerImage\n\n# configure the image\nimage_config = ContainerImage.image_configuration(execution_script=\"score.py\", \n                                                  runtime=\"python\", \n                                                  conda_file=\"myenv.yml\")\n\nservice = Webservice.deploy_from_model(workspace=ws,\n                                       name='nyc-taxi-dsvm',\n                                       deployment_config=aciconfig,\n                                       models=[model],\n                                       image_config=image_config)\n\nservice.wait_for_deployment(show_output=True)",
      "execution_count": 10,
      "outputs": [
        {
          "output_type": "stream",
          "text": "Creating image\nImage creation operation finished for image nyc-taxi-dsvm:1, operation \"Succeeded\"\nCreating service\nRunning.....................................\nSucceededACI service creation operation finished, operation \"Succeeded\"\nCPU times: user 4.91 s, sys: 308 ms, total: 5.22 s\nWall time: 9min 28s\n",
          "name": "stdout"
        }
      ]
    },
    {
      "metadata": {},
      "cell_type": "markdown",
      "source": "Get the scoring web service's HTTP endpoint, which accepts REST client calls. This endpoint can be shared with anyone who wants to test the web service or integrate it into an application."
    },
    {
      "metadata": {
        "trusted": true
      },
      "cell_type": "code",
      "source": "print(service.scoring_uri)",
      "execution_count": 11,
      "outputs": [
        {
          "output_type": "stream",
          "text": "http://40.115.23.210:80/score\n",
          "name": "stdout"
        }
      ]
    },
    {
      "metadata": {},
      "cell_type": "markdown",
      "source": "### Test deployed service\n\nFirst of all, load the test sub-dataset."
    },
    {
      "metadata": {
        "trusted": true
      },
      "cell_type": "code",
      "source": "from sklearn import preprocessing\n\npd_dataframe = pd.read_pickle(\"./data/sub_data_after_prep.pkl\")\n\ny_test = np.array(pd_dataframe[\"trip_duration\"]).astype(float)\ny_test = np.log(y_test)\nX_test = np.array(pd_dataframe.drop([\"trip_duration\"],axis = 1))\n\n# normalize input\nscaler = preprocessing.StandardScaler().fit(X_test)\nX_test = scaler.transform(X_test)",
      "execution_count": 13,
      "outputs": [
        {
          "output_type": "stream",
          "text": "/home/nbuser/anaconda3_501/lib/python3.6/site-packages/sklearn/utils/validation.py:475: DataConversionWarning: Data with input dtype object was converted to float64 by StandardScaler.\n  warnings.warn(msg, DataConversionWarning)\n",
          "name": "stderr"
        }
      ]
    },
    {
      "metadata": {},
      "cell_type": "markdown",
      "source": "Secondly, test the deployed model web service with test sub-dataset.\n\nWith the first method, we can test a group of data. However, with the second method(HTTP request), we can only test one raw each time."
    },
    {
      "metadata": {
        "trusted": true
      },
      "cell_type": "code",
      "source": "import json\nfrom sklearn.metrics import mean_squared_error\n\n# find 30 random samples from test set\nn = 30\nsample_indices = np.random.permutation(X_test.shape[0])[0:n]\n\ntest_samples = json.dumps({\"data\": X_test[sample_indices].tolist()})\ntest_samples = bytes(test_samples, encoding = 'utf8')\n\n# predict using the deployed model\ny_pred = json.loads(service.run(input_data = test_samples))\n\nmse = mean_squared_error(y_test[sample_indices], y_pred)\nprint(\"Mean Squared Error for Linear Regression: {}\".format(mse))",
      "execution_count": 14,
      "outputs": [
        {
          "output_type": "stream",
          "text": "Mean Squared Error for Linear Regression: 0.4408346330734582\n",
          "name": "stdout"
        }
      ]
    },
    {
      "metadata": {},
      "cell_type": "markdown",
      "source": "You can also send raw HTTP request to test the web service."
    },
    {
      "metadata": {
        "trusted": true
      },
      "cell_type": "code",
      "source": "import requests\nimport json\nfrom sklearn.metrics import mean_squared_error\n\n# send a random row from the test set to score\nrandom_index = np.random.randint(0, len(X_test)-1)\ninput_data = \"{\\\"data\\\": [\" + str(list(X_test[random_index])) + \"]}\"\n\nheaders = {'Content-Type':'application/json'}\n\ny_pred = requests.post(service.scoring_uri, input_data, headers = headers)\n\nprint(\"POST to url\", service.scoring_uri)\n#print(\"input data:\", input_data)\nprint(\"label:\", y_test[random_index])\nprint(\"prediction:\", y_pred.text)",
      "execution_count": 15,
      "outputs": [
        {
          "output_type": "stream",
          "text": "POST to url http://40.115.23.210:80/score\nlabel: 6.963189985870238\nprediction: \"[6.647143813339028]\"\n",
          "name": "stdout"
        }
      ]
    },
    {
      "metadata": {},
      "cell_type": "markdown",
      "source": "## Clean up a web service"
    },
    {
      "metadata": {
        "trusted": true
      },
      "cell_type": "code",
      "source": "service.delete()",
      "execution_count": 16,
      "outputs": []
    },
    {
      "metadata": {
        "trusted": true
      },
      "cell_type": "code",
      "source": "",
      "execution_count": null,
      "outputs": []
    }
  ],
  "metadata": {
    "kernelspec": {
      "name": "python36",
      "display_name": "Python 3.6",
      "language": "python"
    },
    "language_info": {
      "mimetype": "text/x-python",
      "nbconvert_exporter": "python",
      "name": "python",
      "pygments_lexer": "ipython3",
      "version": "3.6.6",
      "file_extension": ".py",
      "codemirror_mode": {
        "version": 3,
        "name": "ipython"
      }
    }
  },
  "nbformat": 4,
  "nbformat_minor": 2
}