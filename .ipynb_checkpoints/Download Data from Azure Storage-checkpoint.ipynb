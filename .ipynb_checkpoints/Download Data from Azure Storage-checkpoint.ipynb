{
  "cells": [
    {
      "metadata": {
        "trusted": true
      },
      "cell_type": "code",
      "source": "import os\nimport numpy as np\nimport pandas as pd\n\nimport azureml\nfrom azureml.core import Workspace, Run\n\n# check core SDK version number\nprint(\"Azure ML SDK Version: \", azureml.core.VERSION)",
      "execution_count": 6,
      "outputs": [
        {
          "output_type": "stream",
          "text": "Azure ML SDK Version:  0.1.65\n",
          "name": "stdout"
        }
      ]
    },
    {
      "metadata": {
        "trusted": true
      },
      "cell_type": "code",
      "source": "# should restart the kernel each time update the package\n# update azure storage (change version) in order to use BlobService\n\n!pip install azure-storage==0.20.0",
      "execution_count": 7,
      "outputs": [
        {
          "output_type": "stream",
          "text": "Requirement already satisfied: azure-storage==0.20.0 in /home/nbuser/anaconda3_501/lib/python3.6/site-packages (0.20.0)\nRequirement already satisfied: requests in /home/nbuser/anaconda3_501/lib/python3.6/site-packages (from azure-storage==0.20.0) (2.19.1)\nRequirement already satisfied: azure-common in /home/nbuser/anaconda3_501/lib/python3.6/site-packages (from azure-storage==0.20.0) (1.1.16)\nRequirement already satisfied: python-dateutil in /home/nbuser/anaconda3_501/lib/python3.6/site-packages (from azure-storage==0.20.0) (2.7.3)\nRequirement already satisfied: azure-nspkg in /home/nbuser/anaconda3_501/lib/python3.6/site-packages (from azure-storage==0.20.0) (2.0.0)\nRequirement already satisfied: urllib3<1.24,>=1.21.1 in /home/nbuser/anaconda3_501/lib/python3.6/site-packages (from requests->azure-storage==0.20.0) (1.23)\nRequirement already satisfied: idna<2.8,>=2.5 in /home/nbuser/anaconda3_501/lib/python3.6/site-packages (from requests->azure-storage==0.20.0) (2.6)\nRequirement already satisfied: certifi>=2017.4.17 in /home/nbuser/anaconda3_501/lib/python3.6/site-packages (from requests->azure-storage==0.20.0) (2017.7.27.1)\nRequirement already satisfied: chardet<3.1.0,>=3.0.2 in /home/nbuser/anaconda3_501/lib/python3.6/site-packages (from requests->azure-storage==0.20.0) (3.0.4)\nRequirement already satisfied: six>=1.5 in /home/nbuser/anaconda3_501/lib/python3.6/site-packages (from python-dateutil->azure-storage==0.20.0) (1.11.0)\n",
          "name": "stdout"
        }
      ]
    },
    {
      "metadata": {},
      "cell_type": "markdown",
      "source": "## Connect to Azure Storage"
    },
    {
      "metadata": {
        "trusted": true
      },
      "cell_type": "code",
      "source": "azure_storage_account_name = \"xiangzhestorage\"\nazure_storage_account_key = \"sWfbekdvTokmuf6Odq5D+e3mC73uabkxieUxIG28hkU0undIjLKje1dqkyNnxm1T/zS4nEHIiislRLDEStamSA==\"",
      "execution_count": 8,
      "outputs": []
    },
    {
      "metadata": {
        "trusted": true
      },
      "cell_type": "code",
      "source": "from azure.storage.blob import BlobService\nblob_service = BlobService(account_name = azure_storage_account_name, account_key = azure_storage_account_key)",
      "execution_count": 9,
      "outputs": []
    },
    {
      "metadata": {},
      "cell_type": "markdown",
      "source": "## Download data"
    },
    {
      "metadata": {
        "trusted": true
      },
      "cell_type": "code",
      "source": "data_folder = './data'\nos.makedirs(data_folder, exist_ok=True)",
      "execution_count": 10,
      "outputs": []
    },
    {
      "metadata": {
        "trusted": true
      },
      "cell_type": "code",
      "source": "data_file_path = \"./data/data_after_prep.pkl\"\nblob_service.get_blob_to_path(\"xiangzhe-container\", \"data_after_prep.pkl\", data_file_path)",
      "execution_count": null,
      "outputs": []
    },
    {
      "metadata": {},
      "cell_type": "markdown",
      "source": "## Read data"
    },
    {
      "metadata": {
        "trusted": true
      },
      "cell_type": "code",
      "source": "data_file_path = \"./data/data_after_prep.pkl\"\npd_dataframe = pd.read_pickle(data_file_path)",
      "execution_count": 4,
      "outputs": [
        {
          "output_type": "stream",
          "text": "CPU times: user 5.67 s, sys: 3.08 s, total: 8.75 s\nWall time: 1min 7s\n",
          "name": "stdout"
        }
      ]
    },
    {
      "metadata": {
        "trusted": true
      },
      "cell_type": "code",
      "source": "pd_dataframe.head()",
      "execution_count": 5,
      "outputs": [
        {
          "output_type": "execute_result",
          "execution_count": 5,
          "data": {
            "text/html": "<div>\n<style>\n    .dataframe thead tr:only-child th {\n        text-align: right;\n    }\n\n    .dataframe thead th {\n        text-align: left;\n    }\n\n    .dataframe tbody tr th {\n        vertical-align: top;\n    }\n</style>\n<table border=\"1\" class=\"dataframe\">\n  <thead>\n    <tr style=\"text-align: right;\">\n      <th></th>\n      <th>vendor_id</th>\n      <th>pickup_year</th>\n      <th>pickup_month</th>\n      <th>pickup_monthday</th>\n      <th>pickup_weekday</th>\n      <th>pickup_hour</th>\n      <th>pickup_minute</th>\n      <th>pickup_second</th>\n      <th>dropoff_year</th>\n      <th>dropoff_month</th>\n      <th>...</th>\n      <th>dropoff_minute</th>\n      <th>dropoff_second</th>\n      <th>passenger_count</th>\n      <th>pickup_longitude</th>\n      <th>pickup_latitude</th>\n      <th>dropoff_longitude</th>\n      <th>dropoff_latitude</th>\n      <th>store_and_fwd_flag</th>\n      <th>trip_duration</th>\n      <th>distance</th>\n    </tr>\n  </thead>\n  <tbody>\n    <tr>\n      <th>0</th>\n      <td>2</td>\n      <td>2016</td>\n      <td>03</td>\n      <td>14</td>\n      <td>Monday</td>\n      <td>17</td>\n      <td>24</td>\n      <td>55</td>\n      <td>2016</td>\n      <td>03</td>\n      <td>...</td>\n      <td>32</td>\n      <td>30</td>\n      <td>1</td>\n      <td>-73.982155</td>\n      <td>40.767937</td>\n      <td>-73.964630</td>\n      <td>40.765602</td>\n      <td>N</td>\n      <td>455</td>\n      <td>1.498521</td>\n    </tr>\n    <tr>\n      <th>1</th>\n      <td>1</td>\n      <td>2016</td>\n      <td>06</td>\n      <td>12</td>\n      <td>Sunday</td>\n      <td>00</td>\n      <td>43</td>\n      <td>35</td>\n      <td>2016</td>\n      <td>06</td>\n      <td>...</td>\n      <td>54</td>\n      <td>38</td>\n      <td>1</td>\n      <td>-73.980415</td>\n      <td>40.738564</td>\n      <td>-73.999481</td>\n      <td>40.731152</td>\n      <td>N</td>\n      <td>663</td>\n      <td>1.805507</td>\n    </tr>\n    <tr>\n      <th>2</th>\n      <td>2</td>\n      <td>2016</td>\n      <td>01</td>\n      <td>19</td>\n      <td>Tuesday</td>\n      <td>11</td>\n      <td>35</td>\n      <td>24</td>\n      <td>2016</td>\n      <td>01</td>\n      <td>...</td>\n      <td>10</td>\n      <td>48</td>\n      <td>1</td>\n      <td>-73.979027</td>\n      <td>40.763939</td>\n      <td>-74.005333</td>\n      <td>40.710087</td>\n      <td>N</td>\n      <td>2124</td>\n      <td>6.385098</td>\n    </tr>\n    <tr>\n      <th>3</th>\n      <td>2</td>\n      <td>2016</td>\n      <td>04</td>\n      <td>06</td>\n      <td>Wednesday</td>\n      <td>19</td>\n      <td>32</td>\n      <td>31</td>\n      <td>2016</td>\n      <td>04</td>\n      <td>...</td>\n      <td>39</td>\n      <td>40</td>\n      <td>1</td>\n      <td>-74.010040</td>\n      <td>40.719971</td>\n      <td>-74.012268</td>\n      <td>40.706718</td>\n      <td>N</td>\n      <td>429</td>\n      <td>1.485498</td>\n    </tr>\n    <tr>\n      <th>4</th>\n      <td>2</td>\n      <td>2016</td>\n      <td>03</td>\n      <td>26</td>\n      <td>Saturday</td>\n      <td>13</td>\n      <td>30</td>\n      <td>55</td>\n      <td>2016</td>\n      <td>03</td>\n      <td>...</td>\n      <td>38</td>\n      <td>10</td>\n      <td>1</td>\n      <td>-73.973053</td>\n      <td>40.793209</td>\n      <td>-73.972923</td>\n      <td>40.782520</td>\n      <td>N</td>\n      <td>435</td>\n      <td>1.188588</td>\n    </tr>\n  </tbody>\n</table>\n<p>5 rows × 23 columns</p>\n</div>",
            "text/plain": "  vendor_id pickup_year pickup_month pickup_monthday pickup_weekday  \\\n0         2        2016           03              14         Monday   \n1         1        2016           06              12         Sunday   \n2         2        2016           01              19        Tuesday   \n3         2        2016           04              06      Wednesday   \n4         2        2016           03              26       Saturday   \n\n  pickup_hour pickup_minute pickup_second dropoff_year dropoff_month  \\\n0          17            24            55         2016            03   \n1          00            43            35         2016            06   \n2          11            35            24         2016            01   \n3          19            32            31         2016            04   \n4          13            30            55         2016            03   \n\n     ...    dropoff_minute dropoff_second passenger_count pickup_longitude  \\\n0    ...                32             30               1       -73.982155   \n1    ...                54             38               1       -73.980415   \n2    ...                10             48               1       -73.979027   \n3    ...                39             40               1       -74.010040   \n4    ...                38             10               1       -73.973053   \n\n  pickup_latitude dropoff_longitude  dropoff_latitude  store_and_fwd_flag  \\\n0       40.767937        -73.964630         40.765602                   N   \n1       40.738564        -73.999481         40.731152                   N   \n2       40.763939        -74.005333         40.710087                   N   \n3       40.719971        -74.012268         40.706718                   N   \n4       40.793209        -73.972923         40.782520                   N   \n\n   trip_duration  distance  \n0            455  1.498521  \n1            663  1.805507  \n2           2124  6.385098  \n3            429  1.485498  \n4            435  1.188588  \n\n[5 rows x 23 columns]"
          },
          "metadata": {}
        }
      ]
    }
  ],
  "metadata": {
    "kernelspec": {
      "name": "python36",
      "display_name": "Python 3.6",
      "language": "python"
    },
    "language_info": {
      "mimetype": "text/x-python",
      "nbconvert_exporter": "python",
      "name": "python",
      "pygments_lexer": "ipython3",
      "version": "3.6.6",
      "file_extension": ".py",
      "codemirror_mode": {
        "version": 3,
        "name": "ipython"
      }
    }
  },
  "nbformat": 4,
  "nbformat_minor": 2
}