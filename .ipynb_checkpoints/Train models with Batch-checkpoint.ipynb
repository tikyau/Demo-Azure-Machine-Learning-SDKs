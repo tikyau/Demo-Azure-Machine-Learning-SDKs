{
  "cells": [
    {
      "metadata": {
        "trusted": true
      },
      "cell_type": "code",
      "source": "%matplotlib inline\nimport numpy as np\nimport pandas as pd\nimport matplotlib\nimport matplotlib.pyplot as plt\n\nimport azureml\nfrom azureml.core import Workspace, Run\n\nprint(\"Azure ML SDK Version: \", azureml.core.VERSION)",
      "execution_count": 1,
      "outputs": [
        {
          "output_type": "stream",
          "text": "Azure ML SDK Version:  0.1.59\n",
          "name": "stdout"
        }
      ]
    },
    {
      "metadata": {},
      "cell_type": "markdown",
      "source": "## Load workspace"
    },
    {
      "metadata": {
        "trusted": true
      },
      "cell_type": "code",
      "source": "# load workspace configuration from the config.json file in the current folder.\nws = Workspace.from_config()\nprint(ws.name, ws.location, ws.resource_group, ws.location, sep = '\\t')",
      "execution_count": 2,
      "outputs": [
        {
          "output_type": "stream",
          "text": "Found the config file in: /home/nbuser/library/aml_config/config.json\nXiangzhe-WS\twesteurope\tXiangzhe-ML\twesteurope\n",
          "name": "stdout"
        }
      ]
    },
    {
      "metadata": {},
      "cell_type": "markdown",
      "source": "## Create / connect to an experiment"
    },
    {
      "metadata": {
        "trusted": true
      },
      "cell_type": "code",
      "source": "# create an experiment\nexperiment_name = 'nyc-taxi-batch-AI'\n\nfrom azureml.core import Experiment\nexp = Experiment(workspace = ws, name = experiment_name)",
      "execution_count": 3,
      "outputs": []
    },
    {
      "metadata": {},
      "cell_type": "markdown",
      "source": "## Upload data files into datastore\n\nEvery workspace comes with a default datastore which is backed by the Azure blob storage account associated with the workspace. We can use it to transfer data from local to the cloud, and access it from the compute target."
    },
    {
      "metadata": {
        "trusted": true
      },
      "cell_type": "code",
      "source": "ds = ws.get_default_datastore()\nprint(ds.datastore_type, ds.account_name, ds.container_name)",
      "execution_count": 4,
      "outputs": [
        {
          "output_type": "stream",
          "text": "AzureFile xiangzhews1068013949 azureml-filestore-bc063c69-64a6-48ce-90f5-33cb3c8d43b2\n",
          "name": "stdout"
        }
      ]
    },
    {
      "metadata": {
        "trusted": true
      },
      "cell_type": "code",
      "source": "ds.upload_files(['./data_after_prep.pkl'], target_path='nyc-taxi', overwrite=True, show_progress=True)\n#ds.upload(src_dir='.', target_path='nyc-taxi', overwrite=True, show_progress=True)",
      "execution_count": 5,
      "outputs": [
        {
          "output_type": "execute_result",
          "execution_count": 5,
          "data": {
            "text/plain": "$AZUREML_DATAREFERENCE_5fe09e9af7b443fa8d09db5c1b02df2c"
          },
          "metadata": {}
        }
      ]
    },
    {
      "metadata": {},
      "cell_type": "markdown",
      "source": "## Create training scripts\n\n### Create a script directory\n\nCreate a directory to deliver the necessary code from local to the remote target."
    },
    {
      "metadata": {
        "trusted": true
      },
      "cell_type": "code",
      "source": "import os\nscript_folder = './scripts_batch_AI'\nos.makedirs(script_folder, exist_ok=True)",
      "execution_count": 6,
      "outputs": []
    },
    {
      "metadata": {},
      "cell_type": "markdown",
      "source": "### Create scripts\n\nTo submit the job to the cluster, we should create a training script.\n\n_**Note**: The data path settings of DSVM and Batch AI cluster are different. Be careful !!!_"
    },
    {
      "metadata": {
        "trusted": true
      },
      "cell_type": "code",
      "source": "%%writefile $script_folder/train.py\n\nimport os\nimport argparse\nimport numpy as np\nimport pandas as pd\n\nfrom sklearn import preprocessing\nfrom sklearn.model_selection import train_test_split\nfrom sklearn.linear_model import LinearRegression\nfrom sklearn.metrics import mean_squared_error\nfrom sklearn.externals import joblib\n\nfrom azureml.core import Run\n\n# get hold of the current run\nrun = Run.get_submitted_run()\n\nparser = argparse.ArgumentParser()\nparser.add_argument('--data-folder', type=str, dest='data_folder', help='data folder mounting point')\nargs = parser.parse_args()\n\ndata_folder = os.path.join(args.data_folder, 'nyc-taxi')\nrun.log('Data folder', data_folder)\n\ndata_path = os.path.join(data_folder, 'data_after_prep.pkl')\nrun.log('Data path', data_path)\n\n# load train and test set into numpy arrays\npd_dataframe = pd.read_pickle(data_path)\nrun.log('Data loading', 'finished')\n\n# data processing\nle = preprocessing.LabelEncoder()\nle.fit([\"N\", \"Y\"])\npd_dataframe[\"store_and_fwd_flag\"] = le.transform(pd_dataframe[\"store_and_fwd_flag\"])\n\nle.fit([\"Monday\", \"Tuesday\", \"Wednesday\", \"Thursday\", \"Friday\", \"Saturday\", \"Sunday\"])\npd_dataframe[\"pickup_weekday\"] = le.transform(pd_dataframe[\"pickup_weekday\"])\npd_dataframe[\"dropoff_weekday\"] = le.transform(pd_dataframe[\"dropoff_weekday\"])\nrun.log('Data processing', 'finished')\n\n# load dataset into numpy arrays\ny = np.array(pd_dataframe[\"trip_duration\"]).astype(float)\ny = np.log(y)\nX = np.array(pd_dataframe.drop([\"trip_duration\"],axis = 1))\n\n# normalize data\nscaler = preprocessing.StandardScaler().fit(X)\nX = scaler.transform(X)\nrun.log('Normalization', 'finished')\n\n# split data into train and validation datasets\nX_train, X_val, y_train, y_val = train_test_split(X, y, test_size = 0.25, random_state = 20)\n\n# train LR model\nlm = LinearRegression()\nlm.fit(X_train, y_train)\nrun.log('Model training', 'finished')\n\ny_pred = lm.predict(X_val)\nrun.log('Prediction', 'finished')\n\n# evaluation\nmse = mean_squared_error(y_val, y_pred)\nrun.log('Evaluation', 'finished')\nrun.log('Mean Squared Error', np.float(mse))\n\nos.makedirs('outputs', exist_ok=True)\n# note!!! file saved in the outputs folder is automatically uploaded into experiment record\njoblib.dump(value=lm, filename='outputs/nyc_taxi_model_cluster.pkl')",
      "execution_count": 7,
      "outputs": [
        {
          "output_type": "stream",
          "text": "Writing ./scripts_batch_AI/train.py\n",
          "name": "stdout"
        }
      ]
    },
    {
      "metadata": {},
      "cell_type": "markdown",
      "source": "## Create / connect to a remote compute target"
    },
    {
      "metadata": {
        "trusted": true
      },
      "cell_type": "code",
      "source": "from azureml.core.compute import ComputeTarget, BatchAiCompute\nfrom azureml.core.compute_target import ComputeTargetException\n\n# choose a name for your cluster\nbatchai_cluster_name = \"traincluster\"\n\ntry:\n    # look for the existing cluster by name\n    compute_target = ComputeTarget(workspace=ws, name=batchai_cluster_name)\n    if type(compute_target) is BatchAiCompute:\n        print('found compute target {}, just use it.'.format(batchai_cluster_name))\n    else:\n        print('{} exists but it is not a Batch AI cluster. Please choose a different name.'.format(batchai_cluster_name))\nexcept ComputeTargetException:\n    print('creating a new compute target...')\n    compute_config = BatchAiCompute.provisioning_configuration(vm_size=\"STANDARD_D2_V2\", # small CPU-based VM\n                                                                #vm_priority='lowpriority', # optional\n                                                                autoscale_enabled=True,\n                                                                cluster_min_nodes=0, \n                                                                cluster_max_nodes=4)\n\n    # create the cluster\n    compute_target = ComputeTarget.create(ws, batchai_cluster_name, compute_config)\n    \n    # can poll for a minimum number of nodes and for a specific timeout. \n    # if no min node count is provided it uses the scale settings for the cluster\n    compute_target.wait_for_completion(show_output=True, min_node_count=None, timeout_in_minutes=20)\n    \n    # Use the 'status' property to get a detailed status for the current cluster. \n    print(compute_target.status.serialize())",
      "execution_count": 8,
      "outputs": [
        {
          "output_type": "stream",
          "text": "found compute target traincluster, just use it.\n",
          "name": "stdout"
        }
      ]
    },
    {
      "metadata": {},
      "cell_type": "markdown",
      "source": "## Create an estimator\n\nAn estimator object is used to submit the run."
    },
    {
      "metadata": {
        "trusted": true
      },
      "cell_type": "code",
      "source": "from azureml.train.estimator import Estimator\n\nscript_params = {\n    '--data-folder': ds.as_mount()\n}\n\nest = Estimator(source_directory=script_folder,\n                script_params=script_params,\n                compute_target=compute_target,\n                entry_script='train.py',\n                conda_packages=['numpy','pandas','scikit-learn'])",
      "execution_count": 9,
      "outputs": []
    },
    {
      "metadata": {},
      "cell_type": "markdown",
      "source": "## Submit the job to the cluster & Run\n\nRun the experiment by submitting the estimator object."
    },
    {
      "metadata": {
        "trusted": true
      },
      "cell_type": "code",
      "source": "run = exp.submit(config = est)\nrun",
      "execution_count": 10,
      "outputs": [
        {
          "output_type": "execute_result",
          "execution_count": 10,
          "data": {
            "text/html": "<table style=\"width:100%\"><tr><th>Experiment</th><th>Id</th><th>Type</th><th>Status</th><th>Details Page</th><th>Docs Page</th></tr><tr><td>nyc-taxi-batch-AI</td><td>nyc-taxi-batch-AI_1538578635582</td><td>azureml.scriptrun</td><td>Running</td><td><a href=\"https://mlworkspace.azure.ai/portal/subscriptions/97fdb0ec-6341-4370-a234-394b1581d86c/resourceGroups/Xiangzhe-ML/providers/Microsoft.MachineLearningServices/workspaces/Xiangzhe-WS/experiments/nyc-taxi-batch-AI/runs/nyc-taxi-batch-AI_1538578635582\" target=\"_blank\" rel=\"noopener\">Link to Azure Portal</a></td><td><a href=\"https://docs.microsoft.com/en-us/python/api/azureml-core/azureml.core.script_run.ScriptRun?view=azure-ml-py\" target=\"_blank\" rel=\"noopener\">Link to Documentation</a></td></tr></table>",
            "text/plain": "Run(Experiment: nyc-taxi-batch-AI,\nId: nyc-taxi-batch-AI_1538578635582,\nType: azureml.scriptrun,\nStatus: Running)"
          },
          "metadata": {}
        }
      ]
    },
    {
      "metadata": {},
      "cell_type": "markdown",
      "source": "Show running details."
    },
    {
      "metadata": {
        "trusted": true
      },
      "cell_type": "code",
      "source": "from azureml.train.widgets import RunDetails\nRunDetails(run).show()",
      "execution_count": 11,
      "outputs": [
        {
          "output_type": "display_data",
          "data": {
            "application/vnd.jupyter.widget-view+json": {
              "model_id": "79890b7817c54643a237674e7fef0802",
              "version_minor": 0,
              "version_major": 2
            },
            "text/plain": "_UserRun()"
          },
          "metadata": {}
        },
        {
          "output_type": "stream",
          "text": "MSI: Failed to retrieve a token from 'http://localhost:25198/nb/api/nbsvc/oauth2/token' with an error of 'HTTPConnectionPool(host='localhost', port=25198): Max retries exceeded with url: /nb/api/nbsvc/oauth2/token (Caused by NewConnectionError('<urllib3.connection.HTTPConnection object at 0x7f16d330dd68>: Failed to establish a new connection: [Errno -3] Temporary failure in name resolution',))'. This could be caused by the MSI extension not yet fullly provisioned.\nMSI: Failed to retrieve a token from 'http://localhost:25198/nb/api/nbsvc/oauth2/token' with an error of 'HTTPConnectionPool(host='localhost', port=25198): Max retries exceeded with url: /nb/api/nbsvc/oauth2/token (Caused by NewConnectionError('<urllib3.connection.HTTPConnection object at 0x7f16d330d630>: Failed to establish a new connection: [Errno -3] Temporary failure in name resolution',))'. This could be caused by the MSI extension not yet fullly provisioned.\n",
          "name": "stderr"
        }
      ]
    },
    {
      "metadata": {},
      "cell_type": "markdown",
      "source": "### Display run results"
    },
    {
      "metadata": {
        "trusted": true
      },
      "cell_type": "code",
      "source": "print(run.get_metrics())",
      "execution_count": 12,
      "outputs": [
        {
          "output_type": "stream",
          "text": "{'Data folder': '/mnt/batch/tasks/shared/LS_root/jobs/traincluster8575340143/azureml/nyc-taxi-batch-ai_1538578635582/mounts/workspacefilestore/nyc-taxi', 'Data path': '/mnt/batch/tasks/shared/LS_root/jobs/traincluster8575340143/azureml/nyc-taxi-batch-ai_1538578635582/mounts/workspacefilestore/nyc-taxi/data_after_prep.pkl', 'Data loading': 'finished', 'Data processing': 'finished', 'Normalization': 'finished', 'Model training': 'finished', 'Prediction': 'finished', 'Evaluation': 'finished', 'Mean Squared Error': 0.3878969301600042}\n",
          "name": "stdout"
        }
      ]
    },
    {
      "metadata": {},
      "cell_type": "markdown",
      "source": "## Register model\n\n`outputs` is a special directory in that all content in this directory is automatically uploaded to your workspace. Hence, the model file will also available in the workspace.\n\nWe can see files associated with that run with the following line."
    },
    {
      "metadata": {
        "trusted": true
      },
      "cell_type": "code",
      "source": "print(run.get_file_names())",
      "execution_count": 13,
      "outputs": [
        {
          "output_type": "stream",
          "text": "['azureml-logs/60_control_log.txt', 'azureml-logs/80_driver_log.txt', 'outputs/nyc_taxi_model_cluster.pkl', 'driver_log', 'azureml-logs/azureml.log', 'azureml-logs/55_batchai_execution.txt']\n",
          "name": "stdout"
        }
      ]
    },
    {
      "metadata": {},
      "cell_type": "markdown",
      "source": "Register the model in the workspace so that you (or other collaborators) can later query, examine, and deploy this model."
    },
    {
      "metadata": {
        "trusted": true
      },
      "cell_type": "code",
      "source": "# register model \nmodel = run.register_model(model_name='nyc_taxi_model_cluster', model_path='outputs/nyc_taxi_model_cluster.pkl')\nprint(model.name, model.id, model.version, sep = '\\t')",
      "execution_count": 14,
      "outputs": [
        {
          "output_type": "stream",
          "text": "nyc_taxi_model_cluster\tnyc_taxi_model_cluster:1\t1\n",
          "name": "stdout"
        }
      ]
    },
    {
      "metadata": {},
      "cell_type": "markdown",
      "source": "## Clean up the compute target"
    },
    {
      "metadata": {
        "trusted": true
      },
      "cell_type": "code",
      "source": "# optionally, delete the Azure Managed Compute cluster\ncompute_target.delete()",
      "execution_count": 47,
      "outputs": []
    }
  ],
  "metadata": {
    "kernelspec": {
      "name": "python36",
      "display_name": "Python 3.6",
      "language": "python"
    },
    "language_info": {
      "mimetype": "text/x-python",
      "nbconvert_exporter": "python",
      "name": "python",
      "pygments_lexer": "ipython3",
      "version": "3.6.6",
      "file_extension": ".py",
      "codemirror_mode": {
        "version": 3,
        "name": "ipython"
      }
    }
  },
  "nbformat": 4,
  "nbformat_minor": 2
}